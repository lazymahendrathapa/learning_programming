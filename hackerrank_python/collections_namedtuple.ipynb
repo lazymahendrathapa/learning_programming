{
 "cells": [
  {
   "cell_type": "markdown",
   "metadata": {},
   "source": [
    "# collections.namedtuple()\n",
    "\n",
    "Basically, namedtuples are easy to create, lightweight object types.\n",
    "They turn tuples into convenient containers for simple tasks.\n",
    "With named tuples, you don't haev to use integer indices for accessing members of a tuple."
   ]
  },
  {
   "cell_type": "code",
   "execution_count": 1,
   "metadata": {},
   "outputs": [
    {
     "name": "stdout",
     "output_type": "stream",
     "text": [
      "Point(x=1, y=2)\n",
      "11\n"
     ]
    }
   ],
   "source": [
    "from collections import namedtuple\n",
    "\n",
    "Point = namedtuple('Point', 'x,y')\n",
    "pt1 = Point(1,2)\n",
    "pt2 = Point(3,4)\n",
    "print(pt1)\n",
    "dot_product = (pt1.x * pt2.x) + (pt1.y * pt2.y)\n",
    "print(dot_product)"
   ]
  },
  {
   "cell_type": "code",
   "execution_count": 2,
   "metadata": {},
   "outputs": [
    {
     "name": "stdout",
     "output_type": "stream",
     "text": [
      "Car(Price=10000, Mileage=30, Colour='Cyan', Class='Y')\n",
      "Y\n"
     ]
    }
   ],
   "source": [
    "Car = namedtuple('Car','Price Mileage Colour Class')\n",
    "xyz = Car(Price=10000, Mileage=30, Colour='Cyan', Class='Y')\n",
    "print(xyz)\n",
    "print(xyz.Class)"
   ]
  },
  {
   "cell_type": "code",
   "execution_count": 10,
   "metadata": {},
   "outputs": [],
   "source": [
    "n = int(input())\n",
    "cols = input()\n",
    "Student = namedtuple('Student', cols)"
   ]
  },
  {
   "cell_type": "code",
   "execution_count": 13,
   "metadata": {},
   "outputs": [
    {
     "name": "stdout",
     "output_type": "stream",
     "text": [
      "79.33333333333333\n"
     ]
    }
   ],
   "source": [
    "total_marks = 0\n",
    "\n",
    "for i in range(n):\n",
    "    s = Student(*(input().split()))\n",
    "    total_marks += int(s.MARKS)\n",
    "\n",
    "print(total_marks/n)"
   ]
  },
  {
   "cell_type": "code",
   "execution_count": null,
   "metadata": {},
   "outputs": [],
   "source": []
  },
  {
   "cell_type": "code",
   "execution_count": null,
   "metadata": {},
   "outputs": [],
   "source": []
  }
 ],
 "metadata": {
  "kernelspec": {
   "display_name": "Python 3",
   "language": "python",
   "name": "python3"
  },
  "language_info": {
   "codemirror_mode": {
    "name": "ipython",
    "version": 3
   },
   "file_extension": ".py",
   "mimetype": "text/x-python",
   "name": "python",
   "nbconvert_exporter": "python",
   "pygments_lexer": "ipython3",
   "version": "3.6.5"
  }
 },
 "nbformat": 4,
 "nbformat_minor": 2
}
