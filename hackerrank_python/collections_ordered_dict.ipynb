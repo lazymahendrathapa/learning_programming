{
 "cells": [
  {
   "cell_type": "markdown",
   "metadata": {},
   "source": [
    "# collections.OrderedDict\n",
    "\n",
    "An OrderedDict is a dictionary that remembers the order of the keys that were inserted first. If a new entry overwrites an existing entry, the origin insertion position is left unchanged. \n",
    "\n",
    "\n"
   ]
  },
  {
   "cell_type": "code",
   "execution_count": 9,
   "metadata": {},
   "outputs": [
    {
     "name": "stdout",
     "output_type": "stream",
     "text": [
      "OrderedDict([('a', 1), ('b', 2), ('c', 3), ('d', 4)])\n",
      "odict_keys(['a', 'b', 'c', 'd'])\n",
      "odict_values([1, 2, 3, 4])\n",
      "odict_items([('a', 1), ('b', 2), ('c', 3), ('d', 4)])\n",
      "OrderedDict([('a', 1), ('b', 100), ('c', 3), ('d', 4), ('e', 500)])\n"
     ]
    }
   ],
   "source": [
    "from collections import OrderedDict\n",
    "\n",
    "my_dict = OrderedDict()\n",
    "my_dict['a'] = 1\n",
    "my_dict['b'] = 2\n",
    "my_dict['c'] = 3\n",
    "my_dict['d'] = 4\n",
    "\n",
    "print(my_dict)\n",
    "print(my_dict.keys())\n",
    "print(my_dict.values())\n",
    "print(my_dict.items())\n",
    "\n",
    "my_dict['b'] = 100\n",
    "my_dict['e'] = 500\n",
    "\n",
    "print(my_dict)"
   ]
  },
  {
   "cell_type": "code",
   "execution_count": 19,
   "metadata": {},
   "outputs": [],
   "source": [
    "n = int(input())\n",
    "data = OrderedDict()\n",
    "for i in range(n):\n",
    "    name, sep, price = input().rpartition(\" \")\n",
    "    price = int(price)\n",
    "    \n",
    "    data[name] = data.get(name,0) + price\n",
    "    "
   ]
  },
  {
   "cell_type": "code",
   "execution_count": 21,
   "metadata": {},
   "outputs": [
    {
     "name": "stdout",
     "output_type": "stream",
     "text": [
      "APPLE JUICE 10\n",
      "CANDY 10\n"
     ]
    }
   ],
   "source": [
    "for item, quantity in data.items():\n",
    "    print(item,quantity)"
   ]
  },
  {
   "cell_type": "code",
   "execution_count": null,
   "metadata": {},
   "outputs": [],
   "source": []
  }
 ],
 "metadata": {
  "kernelspec": {
   "display_name": "Python 3",
   "language": "python",
   "name": "python3"
  },
  "language_info": {
   "codemirror_mode": {
    "name": "ipython",
    "version": 3
   },
   "file_extension": ".py",
   "mimetype": "text/x-python",
   "name": "python",
   "nbconvert_exporter": "python",
   "pygments_lexer": "ipython3",
   "version": "3.6.5"
  }
 },
 "nbformat": 4,
 "nbformat_minor": 2
}
