{
 "cells": [
  {
   "cell_type": "markdown",
   "metadata": {},
   "source": [
    "# Regular Expression\n",
    "\n",
    "Regular expression are used to identify whether a pattern exists in a given sequence of characters (string) or not. "
   ]
  },
  {
   "cell_type": "code",
   "execution_count": 1,
   "metadata": {},
   "outputs": [],
   "source": [
    "import re"
   ]
  },
  {
   "cell_type": "markdown",
   "metadata": {},
   "source": [
    "## Basic Patterns: Ordinary Characters\n",
    "\n",
    "Ordinary characters are the simplest regular expressions. They match themselves exactly and do not have a special meaning in their regular expression syntax."
   ]
  },
  {
   "cell_type": "code",
   "execution_count": 2,
   "metadata": {},
   "outputs": [
    {
     "name": "stdout",
     "output_type": "stream",
     "text": [
      "Match!\n"
     ]
    }
   ],
   "source": [
    "pattern = r\"Cookie\"\n",
    "sequence = \"Cookie\"\n",
    "\n",
    "if re.match(pattern, sequence):\n",
    "    print(\"Match!\")\n",
    "else:\n",
    "    print(\"Not a match!\")\n",
    "\n",
    "# The match() function returns a match object if the text \n",
    "# matches the pattern. Otherwise it return None. \n",
    "\n",
    "# There is r at the start of the pattern Cookie. This is called\n",
    "# a raw string literal. It changes how the string literal is \n",
    "# interpreted. Such literals are stored as they appear.\n",
    "\n",
    "# For example, \\ is just a backslash when prefixed with a r rather\n",
    "# than being interpreted as an escape sequence. Sometimes, the \n",
    "# syntax involves backslash-escaped characters and to prevent\n",
    "# these characters from being interpreted as escape sequences, we\n",
    "# use the raw r prefix. \n"
   ]
  },
  {
   "cell_type": "markdown",
   "metadata": {},
   "source": [
    "# Wild Card characters: Special characters.\n",
    "\n",
    "Special characters are characters which do not match themselves as seen but actually have a special meaning when used in a regular expression."
   ]
  },
  {
   "cell_type": "code",
   "execution_count": 3,
   "metadata": {},
   "outputs": [
    {
     "data": {
      "text/plain": [
       "'Cookie'"
      ]
     },
     "execution_count": 3,
     "metadata": {},
     "output_type": "execute_result"
    }
   ],
   "source": [
    "# . - A period: Matches any single character except new line character.\n",
    "\n",
    "re.search(r'Co.k.e', 'Cookie').group()"
   ]
  },
  {
   "cell_type": "code",
   "execution_count": 4,
   "metadata": {},
   "outputs": [
    {
     "data": {
      "text/plain": [
       "'Cookie'"
      ]
     },
     "execution_count": 4,
     "metadata": {},
     "output_type": "execute_result"
    }
   ],
   "source": [
    "# \\w - Lowercase w: Matches any single letter, digit or underscore.\n",
    "re.search(r'Co\\wk\\we', 'Cookie').group()"
   ]
  },
  {
   "cell_type": "code",
   "execution_count": 5,
   "metadata": {},
   "outputs": [
    {
     "data": {
      "text/plain": [
       "'Co@kie'"
      ]
     },
     "execution_count": 5,
     "metadata": {},
     "output_type": "execute_result"
    }
   ],
   "source": [
    "# \\W - Uppercase w: Matches any character not part of \\w (lowercase w).\n",
    "re.search(r'Co\\Wkie', 'Co@kie').group()"
   ]
  },
  {
   "cell_type": "code",
   "execution_count": 6,
   "metadata": {},
   "outputs": [
    {
     "data": {
      "text/plain": [
       "'Eat cake'"
      ]
     },
     "execution_count": 6,
     "metadata": {},
     "output_type": "execute_result"
    }
   ],
   "source": [
    "# \\s - Lowercase s: Matches any single whitespace character like space, newline, tab, return\n",
    "re.search(r'Eat\\scake', 'Eat cake').group()"
   ]
  },
  {
   "cell_type": "code",
   "execution_count": 7,
   "metadata": {},
   "outputs": [
    {
     "data": {
      "text/plain": [
       "'Cookie'"
      ]
     },
     "execution_count": 7,
     "metadata": {},
     "output_type": "execute_result"
    }
   ],
   "source": [
    "# \\S - Uppercase s: Matches any character not part of \\s (lowercase s)\n",
    "re.search(r'Cook\\Se', 'Cookie').group()"
   ]
  },
  {
   "cell_type": "code",
   "execution_count": 8,
   "metadata": {},
   "outputs": [
    {
     "data": {
      "text/plain": [
       "'c00kie'"
      ]
     },
     "execution_count": 8,
     "metadata": {},
     "output_type": "execute_result"
    }
   ],
   "source": [
    "# \\t - Lowercase t: Matches tab\n",
    "# \\n - Lowercase n: Matches newline.\n",
    "# \\r - Lowercase r: Matches return\n",
    "# \\d - Lowercase d: Matches decimal digit 0-9\n",
    "re.search(r'c\\d\\dkie', 'c00kie').group()"
   ]
  },
  {
   "cell_type": "code",
   "execution_count": 9,
   "metadata": {},
   "outputs": [
    {
     "data": {
      "text/plain": [
       "'Eat'"
      ]
     },
     "execution_count": 9,
     "metadata": {},
     "output_type": "execute_result"
    }
   ],
   "source": [
    "# ^ - Caret: Matches pattern at the start of the string.\n",
    "re.search(r'^Eat', 'Eat cake').group()"
   ]
  },
  {
   "cell_type": "code",
   "execution_count": 10,
   "metadata": {},
   "outputs": [
    {
     "data": {
      "text/plain": [
       "'cake'"
      ]
     },
     "execution_count": 10,
     "metadata": {},
     "output_type": "execute_result"
    }
   ],
   "source": [
    "# $ : Matches a pattern at the end of the string.\n",
    "re.search(r'cake$', 'Eat cake').group()"
   ]
  },
  {
   "cell_type": "code",
   "execution_count": 11,
   "metadata": {},
   "outputs": [
    {
     "data": {
      "text/plain": [
       "'Number: 5'"
      ]
     },
     "execution_count": 11,
     "metadata": {},
     "output_type": "execute_result"
    }
   ],
   "source": [
    "# [abc] : Matches a or b or c\n",
    "# [a-zA-Z0-9] : Matches any letter from (a to z) or (A to Z) or (0 to 9)\n",
    "# If the first character of the set is ^, all the characters that are not\n",
    "# in the set will be matches.\n",
    "re.search(r'Number: [0-6]', 'Number: 5').group()"
   ]
  },
  {
   "cell_type": "code",
   "execution_count": 12,
   "metadata": {},
   "outputs": [
    {
     "data": {
      "text/plain": [
       "'Number: 0'"
      ]
     },
     "execution_count": 12,
     "metadata": {},
     "output_type": "execute_result"
    }
   ],
   "source": [
    "# Matches any character except 5\n",
    "re.search(r'Number: [^5]', 'Number: 0').group()"
   ]
  },
  {
   "cell_type": "code",
   "execution_count": 13,
   "metadata": {},
   "outputs": [
    {
     "data": {
      "text/plain": [
       "'Cookie'"
      ]
     },
     "execution_count": 13,
     "metadata": {},
     "output_type": "execute_result"
    }
   ],
   "source": [
    "# \\A - Uppercase a: Matches only at the start of the string. Works\n",
    "# across multiple lines as well\n",
    "re.search(r'\\A[A-E]ookie','Cookie').group()"
   ]
  },
  {
   "cell_type": "code",
   "execution_count": 14,
   "metadata": {},
   "outputs": [
    {
     "data": {
      "text/plain": [
       "'Cookie'"
      ]
     },
     "execution_count": 14,
     "metadata": {},
     "output_type": "execute_result"
    }
   ],
   "source": [
    "# \\b - Lowercase b: Matches only the beginning or end of the work.\n",
    "re.search(r'\\bCooki[e-z]', 'Cookie').group()"
   ]
  },
  {
   "cell_type": "code",
   "execution_count": 15,
   "metadata": {},
   "outputs": [
    {
     "data": {
      "text/plain": [
       "'Back\\\\stail'"
      ]
     },
     "execution_count": 15,
     "metadata": {},
     "output_type": "execute_result"
    }
   ],
   "source": [
    "# \\ - Backslash. If the character following the backslash is a \n",
    "# recognized escape character, then the special meaning of the\n",
    "# term is taken. \n",
    "\n",
    "re.search(r'Back\\\\stail','Back\\stail').group()"
   ]
  },
  {
   "cell_type": "code",
   "execution_count": 16,
   "metadata": {},
   "outputs": [
    {
     "data": {
      "text/plain": [
       "'Back tail'"
      ]
     },
     "execution_count": 16,
     "metadata": {},
     "output_type": "execute_result"
    }
   ],
   "source": [
    "re.search(r'Back\\stail','Back tail').group()"
   ]
  },
  {
   "cell_type": "markdown",
   "metadata": {},
   "source": [
    "## Repetitions "
   ]
  },
  {
   "cell_type": "code",
   "execution_count": 17,
   "metadata": {},
   "outputs": [
    {
     "data": {
      "text/plain": [
       "'Coookie'"
      ]
     },
     "execution_count": 17,
     "metadata": {},
     "output_type": "execute_result"
    }
   ],
   "source": [
    "# + : Checks for one or more characters to its left.\n",
    "re.search(r'Co+kie', 'Coookie').group()"
   ]
  },
  {
   "cell_type": "code",
   "execution_count": 18,
   "metadata": {},
   "outputs": [
    {
     "data": {
      "text/plain": [
       "'Cokie'"
      ]
     },
     "execution_count": 18,
     "metadata": {},
     "output_type": "execute_result"
    }
   ],
   "source": [
    "# * : Checks for zero or more characters to its left.\n",
    "re.search(r'Ca*o*kie', 'Cokie').group()"
   ]
  },
  {
   "cell_type": "code",
   "execution_count": 19,
   "metadata": {},
   "outputs": [
    {
     "data": {
      "text/plain": [
       "'Color'"
      ]
     },
     "execution_count": 19,
     "metadata": {},
     "output_type": "execute_result"
    }
   ],
   "source": [
    "# ? : Checks for exactly zero or one character to its left.\n",
    "re.search(r'Colou?r', 'Color').group()"
   ]
  },
  {
   "cell_type": "code",
   "execution_count": 20,
   "metadata": {},
   "outputs": [],
   "source": [
    "# {x} : Repeat exactly x number of times.\n",
    "# {x,} : Repeat at least x times or more.\n",
    "# {x,y} : Repeat at least x times but no more than y times."
   ]
  },
  {
   "cell_type": "code",
   "execution_count": 21,
   "metadata": {},
   "outputs": [
    {
     "data": {
      "text/plain": [
       "'0987654321'"
      ]
     },
     "execution_count": 21,
     "metadata": {},
     "output_type": "execute_result"
    }
   ],
   "source": [
    "re.search(r'\\d{9,10}', '0987654321').group()"
   ]
  },
  {
   "cell_type": "markdown",
   "metadata": {},
   "source": [
    "## Groups and Grouping using Regular Expressions\n",
    "\n",
    "Suppose that, when we're validating email addresses and want to check the user name and host separately.\n",
    "\n",
    "This is when the group feature of regular expression comes in handy. It allows us to pick up parts of the matching text.\n",
    "\n",
    "Parts of a regular expression pattern bounded by parenthesis() are called groups. The paranthesis does not change what the expression matches, but rather forms groups within the matches sequence. The plain match.group() without any argumet is still the whole matches text as usual.\n",
    "\n"
   ]
  },
  {
   "cell_type": "code",
   "execution_count": 22,
   "metadata": {},
   "outputs": [
    {
     "name": "stdout",
     "output_type": "stream",
     "text": [
      "support@datacamp.com\n",
      "support\n",
      "datacamp.com\n"
     ]
    }
   ],
   "source": [
    "email_address = 'Please contact us at: support@datacamp.com'\n",
    "match = re.search(r'([\\w\\.-]+)@([\\w\\.-]+)', email_address)\n",
    "\n",
    "if match:\n",
    "    print(match.group())\n",
    "    print(match.group(1))\n",
    "    print(match.group(2))"
   ]
  },
  {
   "cell_type": "markdown",
   "metadata": {},
   "source": [
    "# Greedy vs Non-Greedy Matching\n"
   ]
  },
  {
   "cell_type": "code",
   "execution_count": 23,
   "metadata": {},
   "outputs": [
    {
     "data": {
      "text/plain": [
       "'<h1>TITLE</h1>'"
      ]
     },
     "execution_count": 23,
     "metadata": {},
     "output_type": "execute_result"
    }
   ],
   "source": [
    "# When a special character matches as much of the search sequence (string)\n",
    "# as possible, it is said to be \"Greedy Match\". It is the normal\n",
    "# behaviour of a regular expression but sometimes this behavior is not desired\n",
    "\n",
    "heading = r'<h1>TITLE</h1>'\n",
    "re.match(r'<.*>', heading).group()\n",
    "\n",
    "# The pattern <.*> matched the whole string, right up to the second\n",
    "# occurrence of >.\n"
   ]
  },
  {
   "cell_type": "code",
   "execution_count": 24,
   "metadata": {},
   "outputs": [
    {
     "data": {
      "text/plain": [
       "'<h1>'"
      ]
     },
     "execution_count": 24,
     "metadata": {},
     "output_type": "execute_result"
    }
   ],
   "source": [
    "# However, if we only wanted to match the first <h1> tag, we could\n",
    "# have used the non greedy qualifier *? that matches as little text as possible.\n",
    "# Adding ? after the qualifier makes it perform the matchin in a non-greedy\n",
    "# or minimal fashion. That is, as few characters as possible will be matched.\n",
    "\n",
    "heading = r'<h1>TITLE</h1>'\n",
    "re.match(r'<.*?>', heading).group()"
   ]
  },
  {
   "cell_type": "markdown",
   "metadata": {},
   "source": [
    "# match vs search vs findall\n",
    "\n",
    "search(pattern, string, flags=0): With this function, we scan through the given string/sequence looking for the first location where the regular expression produces a match. It returns a corresponding match object if found, else return None if no position in the string matches the pattern. \n",
    "\n",
    "\n",
    "match(pattern, string, flags=0): Returns a corresponding match object if zero or more characters at the beginning of string match the pattern. Else it returns None, if the string doesnot match the given pattern.\n",
    "\n",
    "\n",
    "findall(pattern, string, flags=0): Find all the possible matches in the entire sequence and returns them as a list of string. Each return string represents one matchs.\n",
    "\n"
   ]
  },
  {
   "cell_type": "code",
   "execution_count": 25,
   "metadata": {},
   "outputs": [
    {
     "data": {
      "text/plain": [
       "'cookie'"
      ]
     },
     "execution_count": 25,
     "metadata": {},
     "output_type": "execute_result"
    }
   ],
   "source": [
    "pattern = 'co+kie'\n",
    "sequence = 'cake and cookie and cooookiesing'\n",
    "re.search(pattern, sequence).group()"
   ]
  },
  {
   "cell_type": "code",
   "execution_count": 26,
   "metadata": {},
   "outputs": [
    {
     "name": "stdout",
     "output_type": "stream",
     "text": [
      "None\n",
      "C\n",
      "None\n"
     ]
    }
   ],
   "source": [
    "print(re.match(\"C\", \"IceCream\"))\n",
    "print(re.match(\"C\", \"Cake\").group())\n",
    "print(re.match(\"Ca\", \"Cool\"))"
   ]
  },
  {
   "cell_type": "code",
   "execution_count": 27,
   "metadata": {},
   "outputs": [
    {
     "name": "stdout",
     "output_type": "stream",
     "text": [
      "abc@abc.com\n",
      "bbc@bbc.com\n",
      "ccb@ccb.com\n"
     ]
    }
   ],
   "source": [
    "email_address = \"Please contact us at: abc@abc.com bbc@bbc.com ccb@ccb.com\"\n",
    "\n",
    "addresses = re.findall(r'[\\w\\.-]+@[\\w\\.-]+', email_address)\n",
    "\n",
    "for address in addresses:\n",
    "    print(address)"
   ]
  },
  {
   "cell_type": "markdown",
   "metadata": {},
   "source": [
    "### sub(pattern, repl, string, count=0, flags=0)\n",
    "\n",
    "This is the substitue function. It returns the string obtained by replacing or substituting the leftmost non-overlapping occurrences of pattern in string by the replacement rep. If the pattern is not found then the string is returned unchanged.\n",
    "\n"
   ]
  },
  {
   "cell_type": "code",
   "execution_count": 28,
   "metadata": {},
   "outputs": [
    {
     "data": {
      "text/plain": [
       "'Please contact us at: final@final.com final@final.com'"
      ]
     },
     "execution_count": 28,
     "metadata": {},
     "output_type": "execute_result"
    }
   ],
   "source": [
    "email_address = \"Please contact us at: abc@abc.com bbc@bbc.com\"\n",
    "new_email_address = re.sub(r'([\\w\\.-]+)@([\\w\\.-]+)',r'final@final.com', email_address)\n",
    "new_email_address"
   ]
  },
  {
   "cell_type": "markdown",
   "metadata": {},
   "source": [
    "### compile(pattern, flags=0)\n",
    "\n",
    "Compiles a regular expression pattern into a regular expression object. When you need to use an expression several times in a single program, using the compile() function to save the resulting regular expression object for reuse is more efficient. "
   ]
  },
  {
   "cell_type": "code",
   "execution_count": 29,
   "metadata": {},
   "outputs": [
    {
     "name": "stdout",
     "output_type": "stream",
     "text": [
      "cookie\n",
      "cookie\n"
     ]
    }
   ],
   "source": [
    "pattern = re.compile(r'cookie')\n",
    "sequence = \"Cake and cookie\"\n",
    "print(pattern.search(sequence).group())\n",
    "\n",
    "# This is equivalent to:\n",
    "print(re.search(pattern, sequence).group())"
   ]
  },
  {
   "cell_type": "code",
   "execution_count": null,
   "metadata": {},
   "outputs": [],
   "source": []
  }
 ],
 "metadata": {
  "kernelspec": {
   "display_name": "Python 3",
   "language": "python",
   "name": "python3"
  },
  "language_info": {
   "codemirror_mode": {
    "name": "ipython",
    "version": 3
   },
   "file_extension": ".py",
   "mimetype": "text/x-python",
   "name": "python",
   "nbconvert_exporter": "python",
   "pygments_lexer": "ipython3",
   "version": "3.6.5"
  }
 },
 "nbformat": 4,
 "nbformat_minor": 2
}
