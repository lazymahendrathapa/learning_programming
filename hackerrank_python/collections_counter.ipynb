{
 "cells": [
  {
   "cell_type": "markdown",
   "metadata": {},
   "source": [
    "# collections.Counter()\n",
    "\n",
    "A counter is a container that stores elements as dictionary keys, and their counts are stored as dictionary values.\n",
    "\n"
   ]
  },
  {
   "cell_type": "code",
   "execution_count": 1,
   "metadata": {},
   "outputs": [
    {
     "name": "stdout",
     "output_type": "stream",
     "text": [
      "Counter({2: 4, 3: 4, 1: 3, 4: 2, 5: 1})\n",
      "{1: 3, 2: 4, 3: 4, 4: 2, 5: 1}\n",
      "dict_items([(1, 3), (2, 4), (3, 4), (4, 2), (5, 1)])\n",
      "dict_keys([1, 2, 3, 4, 5])\n",
      "dict_values([3, 4, 4, 2, 1])\n"
     ]
    }
   ],
   "source": [
    "from collections import Counter\n",
    "\n",
    "l = [1,1,2,3,4,5,3,2,3,4,2,1,2,3]\n",
    "\n",
    "print(Counter(l))\n",
    "\n",
    "print(dict(Counter(l)))\n",
    "\n",
    "print(Counter(l).items())\n",
    "\n",
    "print(Counter(l).keys())\n",
    "\n",
    "print(Counter(l).values())"
   ]
  },
  {
   "cell_type": "code",
   "execution_count": 8,
   "metadata": {},
   "outputs": [
    {
     "name": "stdout",
     "output_type": "stream",
     "text": [
      "200\n"
     ]
    }
   ],
   "source": [
    "from collections import Counter\n",
    "\n",
    "num_shoes = int(input())\n",
    "shoes = list(map(int, input().split()))\n",
    "\n",
    "#s = Counter(shoes)\n",
    "\n",
    "num_customers = int(input())\n",
    "\n",
    "total_income = 0\n",
    "\n",
    "for i in range(num_customers):\n",
    "    size, price = tuple(map(int, input().split()))\n",
    "    \n",
    "    if size in shoes:\n",
    "        total_income += price\n",
    "        shoes.remove(size)\n",
    " \n",
    "print(total_income)"
   ]
  },
  {
   "cell_type": "code",
   "execution_count": 3,
   "metadata": {},
   "outputs": [
    {
     "data": {
      "text/plain": [
       "155"
      ]
     },
     "execution_count": 3,
     "metadata": {},
     "output_type": "execute_result"
    }
   ],
   "source": [
    "total_income"
   ]
  },
  {
   "cell_type": "code",
   "execution_count": null,
   "metadata": {},
   "outputs": [],
   "source": []
  }
 ],
 "metadata": {
  "kernelspec": {
   "display_name": "Python 3",
   "language": "python",
   "name": "python3"
  },
  "language_info": {
   "codemirror_mode": {
    "name": "ipython",
    "version": 3
   },
   "file_extension": ".py",
   "mimetype": "text/x-python",
   "name": "python",
   "nbconvert_exporter": "python",
   "pygments_lexer": "ipython3",
   "version": "3.6.5"
  }
 },
 "nbformat": 4,
 "nbformat_minor": 2
}
