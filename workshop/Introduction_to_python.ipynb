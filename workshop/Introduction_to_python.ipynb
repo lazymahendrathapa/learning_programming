{
  "cells": [
    {
      "metadata": {},
      "cell_type": "markdown",
      "source": "# Compiled vs Interpreted\n\n- Source Code: Original Code\n- Translation: Converting source code into something a computer can read (i.e machine code)\n- Run-Time: Period when program is executing commands (after compilation, if compiled)\n- Compiled: Code translated before run-time.\n- Interpreted: Code translated on the fly, during execution."
    },
    {
      "metadata": {},
      "cell_type": "markdown",
      "source": "# Static vs Dynamic\n\nStatic: Types checked before run-time.\n\nDynamic: Types Checked on the fly, during execution."
    },
    {
      "metadata": {},
      "cell_type": "markdown",
      "source": "# Python\n\nPython is an interpreted high-level programming language for general-purpose programming. Created by Guido van Rossum and first released in 1991, Python has a design philosophy that emphasizes code readability, notably using significant whitespace."
    },
    {
      "metadata": {},
      "cell_type": "markdown",
      "source": "# Python is strongly type language."
    },
    {
      "metadata": {
        "trusted": false
      },
      "cell_type": "code",
      "source": "print(3 + 5)\n#print(\"3\" + 5)",
      "execution_count": 1,
      "outputs": [
        {
          "name": "stdout",
          "output_type": "stream",
          "text": "8\n"
        }
      ]
    },
    {
      "metadata": {},
      "cell_type": "markdown",
      "source": "# Python is dynamic and interpreted language\n"
    },
    {
      "metadata": {
        "trusted": false
      },
      "cell_type": "code",
      "source": "a = 10\nif a > 0:\n    print('Hi')\nelse:\n    print(\"3\" + 5)",
      "execution_count": 2,
      "outputs": [
        {
          "name": "stdout",
          "output_type": "stream",
          "text": "Hi\n"
        }
      ]
    },
    {
      "metadata": {},
      "cell_type": "markdown",
      "source": "### Q. What if it was compiled?\n### Q. What if it was statically typed?\n"
    },
    {
      "metadata": {
        "trusted": false
      },
      "cell_type": "code",
      "source": "# Hello world\nprint(\"Hello World\")",
      "execution_count": 3,
      "outputs": [
        {
          "name": "stdout",
          "output_type": "stream",
          "text": "Hello World\n"
        }
      ]
    },
    {
      "metadata": {},
      "cell_type": "markdown",
      "source": "# Python Data Type\n\n### Q. What is Data type?"
    },
    {
      "metadata": {},
      "cell_type": "markdown",
      "source": "# Python Basic Data Type"
    },
    {
      "metadata": {
        "trusted": false
      },
      "cell_type": "code",
      "source": "# Number\na = 10\nprint(a)",
      "execution_count": 4,
      "outputs": [
        {
          "name": "stdout",
          "output_type": "stream",
          "text": "10\n"
        }
      ]
    },
    {
      "metadata": {
        "trusted": false
      },
      "cell_type": "code",
      "source": "# String\nvar = \"Name\"\nprint(var)",
      "execution_count": 5,
      "outputs": [
        {
          "name": "stdout",
          "output_type": "stream",
          "text": "Name\n"
        }
      ]
    },
    {
      "metadata": {
        "trusted": false
      },
      "cell_type": "code",
      "source": "# list\nvar = [1,2,3, \"abc\", [1,2]]\nprint(var)",
      "execution_count": 6,
      "outputs": [
        {
          "name": "stdout",
          "output_type": "stream",
          "text": "[1, 2, 3, 'abc', [1, 2]]\n"
        }
      ]
    },
    {
      "metadata": {
        "trusted": false
      },
      "cell_type": "code",
      "source": "# dictionary\nvar = {1:'apple', 2: 'banana'}\nprint(var)",
      "execution_count": 7,
      "outputs": [
        {
          "name": "stdout",
          "output_type": "stream",
          "text": "{1: 'apple', 2: 'banana'}\n"
        }
      ]
    },
    {
      "metadata": {
        "trusted": false
      },
      "cell_type": "code",
      "source": "# tuple\nvar = (1,2,3,4,'apple', [1,2], (1,2))\nprint(var)",
      "execution_count": 8,
      "outputs": [
        {
          "name": "stdout",
          "output_type": "stream",
          "text": "(1, 2, 3, 4, 'apple', [1, 2], (1, 2))\n"
        }
      ]
    },
    {
      "metadata": {
        "trusted": false
      },
      "cell_type": "code",
      "source": "# set\nvar = {1, 2, 'a'}\nprint(var)",
      "execution_count": 9,
      "outputs": [
        {
          "name": "stdout",
          "output_type": "stream",
          "text": "{'a', 1, 2}\n"
        }
      ]
    },
    {
      "metadata": {
        "trusted": false
      },
      "cell_type": "code",
      "source": "# Boolean\na = True\nprint(a)",
      "execution_count": 10,
      "outputs": [
        {
          "name": "stdout",
          "output_type": "stream",
          "text": "True\n"
        }
      ]
    },
    {
      "metadata": {
        "trusted": false
      },
      "cell_type": "code",
      "source": "# and many others \n# files, types, none, classes",
      "execution_count": 11,
      "outputs": []
    },
    {
      "metadata": {},
      "cell_type": "markdown",
      "source": "# Valid variable name "
    },
    {
      "metadata": {},
      "cell_type": "markdown",
      "source": "1. Variable names can be of any length and can use any upper case or lowercase letters, the underscore, and the digits 0-9.\n2. variables names cannot begin with a digit. \n3. Variable names are case sensitive. \n\n#### Valid variable name: myVariable, var1, x, X, _x\n\n#### Invalid variable name: 1var, my#var"
    },
    {
      "metadata": {},
      "cell_type": "markdown",
      "source": "# Numbers"
    },
    {
      "metadata": {
        "trusted": false
      },
      "cell_type": "code",
      "source": "my_int = 4\nprint(my_int/3) # normal division\nprint(my_int//3) # floar division",
      "execution_count": 12,
      "outputs": [
        {
          "name": "stdout",
          "output_type": "stream",
          "text": "1.3333333333333333\n1\n"
        }
      ]
    },
    {
      "metadata": {
        "trusted": false
      },
      "cell_type": "code",
      "source": "my_float = 5.5\nprint(20/my_float)\nprint(20//my_float)",
      "execution_count": 13,
      "outputs": [
        {
          "name": "stdout",
          "output_type": "stream",
          "text": "3.6363636363636362\n3.0\n"
        }
      ]
    },
    {
      "metadata": {
        "trusted": false
      },
      "cell_type": "code",
      "source": "# complex number \n2 + 4j\n",
      "execution_count": 14,
      "outputs": [
        {
          "data": {
            "text/plain": "(2+4j)"
          },
          "execution_count": 14,
          "metadata": {},
          "output_type": "execute_result"
        }
      ]
    },
    {
      "metadata": {
        "trusted": false
      },
      "cell_type": "code",
      "source": "_ - 3j",
      "execution_count": 15,
      "outputs": [
        {
          "data": {
            "text/plain": "(2+1j)"
          },
          "execution_count": 15,
          "metadata": {},
          "output_type": "execute_result"
        }
      ]
    },
    {
      "metadata": {
        "trusted": false
      },
      "cell_type": "code",
      "source": "complex(4,3)",
      "execution_count": 16,
      "outputs": [
        {
          "data": {
            "text/plain": "(4+3j)"
          },
          "execution_count": 16,
          "metadata": {},
          "output_type": "execute_result"
        }
      ]
    },
    {
      "metadata": {},
      "cell_type": "markdown",
      "source": "# Arithmetic and relational operation"
    },
    {
      "metadata": {
        "trusted": false
      },
      "cell_type": "code",
      "source": "# The order of execution is PEMDAS which stands for Parentheses\\\n# Exponents Multiplication Division Addition Subtraction\"\n",
      "execution_count": 17,
      "outputs": []
    },
    {
      "metadata": {
        "trusted": false
      },
      "cell_type": "code",
      "source": "print(\"I will now count my chickens:\")\n\nprint(\"Hens\", 25 + 30 / 6)\nprint(\"Roosters\", 100 - 25 * 3 % 4)\n\nprint(\"Now I will count the eggs:\")\nprint(3 + 2 + 1 - 5 + 4 % 2 - 1 / 4 + 6)\n\nprint(\"Is it true that 3 + 2 < 5 - 7?\")\nprint(3 + 2 < 5 - 7)\n\nprint(\"What is 3 + 2?\", 3 + 2)\nprint(\"What is 5 - 7?\", 5 - 7)\n\nprint(\"Oh, that's why it's False.\")\n\nprint(\"How about some more.\")\n\nprint(\"It is greater?\", 5 > -2)\nprint(\"It is greater or equal?\", 5 >= -2)\nprint(\"It is less or equal?\", 5 <= -2)\n\n",
      "execution_count": 18,
      "outputs": [
        {
          "name": "stdout",
          "output_type": "stream",
          "text": "I will now count my chickens:\nHens 30.0\nRoosters 97\nNow I will count the eggs:\n6.75\nIs it true that 3 + 2 < 5 - 7?\nFalse\nWhat is 3 + 2? 5\nWhat is 5 - 7? -2\nOh, that's why it's False.\nHow about some more.\nIt is greater? True\nIt is greater or equal? True\nIt is less or equal? False\n"
        }
      ]
    },
    {
      "metadata": {},
      "cell_type": "markdown",
      "source": "# Boolean Expression"
    },
    {
      "metadata": {
        "trusted": false
      },
      "cell_type": "code",
      "source": "False and True",
      "execution_count": 19,
      "outputs": [
        {
          "data": {
            "text/plain": "False"
          },
          "execution_count": 19,
          "metadata": {},
          "output_type": "execute_result"
        }
      ]
    },
    {
      "metadata": {
        "trusted": false
      },
      "cell_type": "code",
      "source": "False or True",
      "execution_count": 20,
      "outputs": [
        {
          "data": {
            "text/plain": "True"
          },
          "execution_count": 20,
          "metadata": {},
          "output_type": "execute_result"
        }
      ]
    },
    {
      "metadata": {
        "trusted": false
      },
      "cell_type": "code",
      "source": "1 == 1 or 2 != 1",
      "execution_count": 21,
      "outputs": [
        {
          "data": {
            "text/plain": "True"
          },
          "execution_count": 21,
          "metadata": {},
          "output_type": "execute_result"
        }
      ]
    },
    {
      "metadata": {
        "trusted": false
      },
      "cell_type": "code",
      "source": "1 == 1 and (not (\"testing\" == 1 or 1 == 0))",
      "execution_count": 22,
      "outputs": [
        {
          "data": {
            "text/plain": "True"
          },
          "execution_count": 22,
          "metadata": {},
          "output_type": "execute_result"
        }
      ]
    },
    {
      "metadata": {},
      "cell_type": "markdown",
      "source": "#### In python 3, False = 0 True = 1\n"
    },
    {
      "metadata": {
        "trusted": false
      },
      "cell_type": "code",
      "source": "#False or True\n0 or 1",
      "execution_count": 23,
      "outputs": [
        {
          "data": {
            "text/plain": "1"
          },
          "execution_count": 23,
          "metadata": {},
          "output_type": "execute_result"
        }
      ]
    },
    {
      "metadata": {
        "trusted": false
      },
      "cell_type": "code",
      "source": "# not False\nnot 0",
      "execution_count": 24,
      "outputs": [
        {
          "data": {
            "text/plain": "True"
          },
          "execution_count": 24,
          "metadata": {},
          "output_type": "execute_result"
        }
      ]
    },
    {
      "metadata": {},
      "cell_type": "markdown",
      "source": "# List"
    },
    {
      "metadata": {
        "trusted": false
      },
      "cell_type": "code",
      "source": "nums =  [70, 60, 50, 40, 30, 20, 10]\nprint(nums)",
      "execution_count": 25,
      "outputs": [
        {
          "name": "stdout",
          "output_type": "stream",
          "text": "[70, 60, 50, 40, 30, 20, 10]\n"
        }
      ]
    },
    {
      "metadata": {
        "trusted": false
      },
      "cell_type": "code",
      "source": "test = [\"a\", \"list\", \"of\", [4, 'plus', 1], \"elements\"]\nprint(test)",
      "execution_count": 26,
      "outputs": [
        {
          "name": "stdout",
          "output_type": "stream",
          "text": "['a', 'list', 'of', [4, 'plus', 1], 'elements']\n"
        }
      ]
    },
    {
      "metadata": {},
      "cell_type": "markdown",
      "source": "### Q. Compare list with array?"
    },
    {
      "metadata": {
        "trusted": false
      },
      "cell_type": "code",
      "source": "# indexing\nx = [1,2,3,4,5,6]\n",
      "execution_count": 27,
      "outputs": []
    },
    {
      "metadata": {
        "trusted": false
      },
      "cell_type": "code",
      "source": "len(x)",
      "execution_count": 28,
      "outputs": [
        {
          "data": {
            "text/plain": "6"
          },
          "execution_count": 28,
          "metadata": {},
          "output_type": "execute_result"
        }
      ]
    },
    {
      "metadata": {
        "trusted": false
      },
      "cell_type": "code",
      "source": "x[1]",
      "execution_count": 29,
      "outputs": [
        {
          "data": {
            "text/plain": "2"
          },
          "execution_count": 29,
          "metadata": {},
          "output_type": "execute_result"
        }
      ]
    },
    {
      "metadata": {
        "trusted": false
      },
      "cell_type": "code",
      "source": "x[-3]",
      "execution_count": 30,
      "outputs": [
        {
          "data": {
            "text/plain": "4"
          },
          "execution_count": 30,
          "metadata": {},
          "output_type": "execute_result"
        }
      ]
    },
    {
      "metadata": {
        "trusted": false
      },
      "cell_type": "code",
      "source": "x = [[1,2],[3,4],[5,6]]\nx",
      "execution_count": 31,
      "outputs": [
        {
          "data": {
            "text/plain": "[[1, 2], [3, 4], [5, 6]]"
          },
          "execution_count": 31,
          "metadata": {},
          "output_type": "execute_result"
        }
      ]
    },
    {
      "metadata": {
        "trusted": false
      },
      "cell_type": "code",
      "source": "x[1][0]",
      "execution_count": 32,
      "outputs": [
        {
          "data": {
            "text/plain": "3"
          },
          "execution_count": 32,
          "metadata": {},
          "output_type": "execute_result"
        }
      ]
    },
    {
      "metadata": {
        "trusted": false
      },
      "cell_type": "code",
      "source": "x[2][-2]",
      "execution_count": 33,
      "outputs": [
        {
          "data": {
            "text/plain": "5"
          },
          "execution_count": 33,
          "metadata": {},
          "output_type": "execute_result"
        }
      ]
    },
    {
      "metadata": {
        "trusted": false
      },
      "cell_type": "code",
      "source": "x[-1]",
      "execution_count": 34,
      "outputs": [
        {
          "data": {
            "text/plain": "[5, 6]"
          },
          "execution_count": 34,
          "metadata": {},
          "output_type": "execute_result"
        }
      ]
    },
    {
      "metadata": {
        "trusted": false
      },
      "cell_type": "code",
      "source": "x[0][0] = 100\nx",
      "execution_count": 35,
      "outputs": [
        {
          "data": {
            "text/plain": "[[100, 2], [3, 4], [5, 6]]"
          },
          "execution_count": 35,
          "metadata": {},
          "output_type": "execute_result"
        }
      ]
    },
    {
      "metadata": {},
      "cell_type": "markdown",
      "source": "### Q. Create 1d list of size 10 with values ranging from 1 to 10 and then assign 5th value to -1. "
    },
    {
      "metadata": {
        "trusted": true
      },
      "cell_type": "code",
      "source": "new_list = [1,2,3,4,5,6,7,8,9,10]\n#assigning 5th value to -1\nnew_list[4] = -1\nnew_list",
      "execution_count": 1,
      "outputs": [
        {
          "output_type": "execute_result",
          "execution_count": 1,
          "data": {
            "text/plain": "[1, 2, 3, 4, -1, 6, 7, 8, 9, 10]"
          },
          "metadata": {}
        }
      ]
    },
    {
      "metadata": {},
      "cell_type": "markdown",
      "source": "### Q. Reverse the list"
    },
    {
      "metadata": {
        "trusted": true
      },
      "cell_type": "code",
      "source": "#reversing the new_list\nnew_list[::-1]",
      "execution_count": 2,
      "outputs": [
        {
          "output_type": "execute_result",
          "execution_count": 2,
          "data": {
            "text/plain": "[10, 9, 8, 7, 6, -1, 4, 3, 2, 1]"
          },
          "metadata": {}
        }
      ]
    },
    {
      "metadata": {
        "trusted": false
      },
      "cell_type": "code",
      "source": "# slicing\nx = [1,2,3,4,5,6]",
      "execution_count": 38,
      "outputs": []
    },
    {
      "metadata": {
        "trusted": false
      },
      "cell_type": "code",
      "source": "x[0:4]",
      "execution_count": 39,
      "outputs": [
        {
          "data": {
            "text/plain": "[1, 2, 3, 4]"
          },
          "execution_count": 39,
          "metadata": {},
          "output_type": "execute_result"
        }
      ]
    },
    {
      "metadata": {
        "trusted": false
      },
      "cell_type": "code",
      "source": "x[:4]",
      "execution_count": 40,
      "outputs": [
        {
          "data": {
            "text/plain": "[1, 2, 3, 4]"
          },
          "execution_count": 40,
          "metadata": {},
          "output_type": "execute_result"
        }
      ]
    },
    {
      "metadata": {
        "trusted": false
      },
      "cell_type": "code",
      "source": "l = len(x)\nx[3:l]",
      "execution_count": 41,
      "outputs": [
        {
          "data": {
            "text/plain": "[4, 5, 6]"
          },
          "execution_count": 41,
          "metadata": {},
          "output_type": "execute_result"
        }
      ]
    },
    {
      "metadata": {
        "trusted": false
      },
      "cell_type": "code",
      "source": "x[3:]",
      "execution_count": 42,
      "outputs": [
        {
          "data": {
            "text/plain": "[4, 5, 6]"
          },
          "execution_count": 42,
          "metadata": {},
          "output_type": "execute_result"
        }
      ]
    },
    {
      "metadata": {
        "trusted": false
      },
      "cell_type": "code",
      "source": "x[::2]",
      "execution_count": 43,
      "outputs": [
        {
          "data": {
            "text/plain": "[1, 3, 5]"
          },
          "execution_count": 43,
          "metadata": {},
          "output_type": "execute_result"
        }
      ]
    },
    {
      "metadata": {
        "trusted": false
      },
      "cell_type": "code",
      "source": "x[1::2]",
      "execution_count": 44,
      "outputs": [
        {
          "data": {
            "text/plain": "[2, 4, 6]"
          },
          "execution_count": 44,
          "metadata": {},
          "output_type": "execute_result"
        }
      ]
    },
    {
      "metadata": {
        "trusted": false
      },
      "cell_type": "code",
      "source": "x = [[3,7,0],[1,9,9],[0,4,7]]\nx[:2]",
      "execution_count": 45,
      "outputs": [
        {
          "data": {
            "text/plain": "[[3, 7, 0], [1, 9, 9]]"
          },
          "execution_count": 45,
          "metadata": {},
          "output_type": "execute_result"
        }
      ]
    },
    {
      "metadata": {
        "trusted": false
      },
      "cell_type": "code",
      "source": "x[:2][:1]",
      "execution_count": 46,
      "outputs": [
        {
          "data": {
            "text/plain": "[[3, 7, 0]]"
          },
          "execution_count": 46,
          "metadata": {},
          "output_type": "execute_result"
        }
      ]
    },
    {
      "metadata": {},
      "cell_type": "markdown",
      "source": "### Q. Find the last 3 element of list in reverse order.\n\nInput: x = [1,2,3,4,5,6]\nOutput: [6,5,4]"
    },
    {
      "metadata": {
        "trusted": true
      },
      "cell_type": "code",
      "source": "x = [1,2,3,4,5,6]\n#x[-1:-4:-1]\nx[6:2:-1]",
      "execution_count": 11,
      "outputs": [
        {
          "output_type": "execute_result",
          "execution_count": 11,
          "data": {
            "text/plain": "[6, 5, 4]"
          },
          "metadata": {}
        }
      ]
    },
    {
      "metadata": {
        "trusted": false
      },
      "cell_type": "code",
      "source": "# change or add elements to a list\n\nodd = [2, 4, 6, 8]\n\nodd[0] = 1\n\nprint(odd)\n\nodd[1:4] = [3,5,7]\n\nprint(odd)\n\nodd.append(10)\n\nprint(odd)\n\nodd.extend([9,11,13])\n\nprint(odd)",
      "execution_count": 48,
      "outputs": [
        {
          "name": "stdout",
          "output_type": "stream",
          "text": "[1, 4, 6, 8]\n[1, 3, 5, 7]\n[1, 3, 5, 7, 10]\n[1, 3, 5, 7, 10, 9, 11, 13]\n"
        }
      ]
    },
    {
      "metadata": {
        "trusted": false
      },
      "cell_type": "code",
      "source": "odd = [1, 3, 5]\n\nprint(odd + [9, 7, 5])\n\nprint([\"re\"] * 3)\n",
      "execution_count": 49,
      "outputs": [
        {
          "name": "stdout",
          "output_type": "stream",
          "text": "[1, 3, 5, 9, 7, 5]\n['re', 're', 're']\n"
        }
      ]
    },
    {
      "metadata": {
        "trusted": false
      },
      "cell_type": "code",
      "source": "odd = [1, 9]\nodd.insert(1, 3)\n\nprint(odd)\n\n# insert multiple items by squeezing it into an empty slice of a list.\nodd[2:2] = [5, 7]\n\nprint(odd)\n\n",
      "execution_count": 50,
      "outputs": [
        {
          "name": "stdout",
          "output_type": "stream",
          "text": "[1, 3, 9]\n[1, 3, 5, 7, 9]\n"
        }
      ]
    },
    {
      "metadata": {
        "trusted": false
      },
      "cell_type": "code",
      "source": "# delete or remove elements from a list\nmy_list = ['p', 'r', 'o', 'b', 'l', 'e', 'm']\n\ndel my_list[2]\n\nprint(my_list)\n\ndel my_list[1:5]\n\nprint(my_list)\n\n# delete entire list\ndel my_list\n#print(my_list)",
      "execution_count": 51,
      "outputs": [
        {
          "name": "stdout",
          "output_type": "stream",
          "text": "['p', 'r', 'b', 'l', 'e', 'm']\n['p', 'm']\n"
        }
      ]
    },
    {
      "metadata": {
        "trusted": false
      },
      "cell_type": "code",
      "source": "my_list = ['a', 'p', 'p', 'l', 'e', 'e']\nmy_list.remove('p')\n\nprint(my_list)\n\nprint(my_list.pop(1))\n\nprint(my_list)\n\nprint(my_list.pop())\n\nprint(my_list)\n\nmy_list[1:2] = []\n\nprint(my_list) \n\nmy_list.clear()\n\nprint(my_list)",
      "execution_count": 52,
      "outputs": [
        {
          "name": "stdout",
          "output_type": "stream",
          "text": "['a', 'p', 'l', 'e', 'e']\np\n['a', 'l', 'e', 'e']\ne\n['a', 'l', 'e']\n['a', 'e']\n[]\n"
        }
      ]
    },
    {
      "metadata": {
        "trusted": false
      },
      "cell_type": "code",
      "source": "my_list = [3, 8, 1, 6, 0, 8, 4]\n\n# returns the index of the first matched item\nprint(my_list.index(8))\n\n# returns the count of number of items passed as an argument\nprint(my_list.count(8))\n\nmy_list.sort()\n\nprint(my_list)\n\nmy_list.reverse()\n\nprint(my_list)",
      "execution_count": 53,
      "outputs": [
        {
          "name": "stdout",
          "output_type": "stream",
          "text": "1\n2\n[0, 1, 3, 4, 6, 8, 8]\n[8, 8, 6, 4, 3, 1, 0]\n"
        }
      ]
    },
    {
      "metadata": {
        "trusted": false
      },
      "cell_type": "code",
      "source": "# list membership test\nmy_list = [1, 2, 3, 4]\n\nprint(1 in my_list)\n\nprint('a' in my_list)\n\nprint('1' in my_list)",
      "execution_count": 54,
      "outputs": [
        {
          "name": "stdout",
          "output_type": "stream",
          "text": "True\nFalse\nFalse\n"
        }
      ]
    },
    {
      "metadata": {
        "trusted": false
      },
      "cell_type": "code",
      "source": "my_list = [5, 6, 7, 8]\n    \nprint(len(my_list))\n\nprint(max(my_list))\n\nprint(min(my_list))\n\nprint(sorted(my_list))\n\nprint(sum(my_list))",
      "execution_count": 55,
      "outputs": [
        {
          "name": "stdout",
          "output_type": "stream",
          "text": "4\n8\n5\n[5, 6, 7, 8]\n26\n"
        }
      ]
    },
    {
      "metadata": {},
      "cell_type": "markdown",
      "source": "# If condition"
    },
    {
      "metadata": {
        "trusted": false
      },
      "cell_type": "code",
      "source": "a = 10\n\nif a == 10:\n    print(\"Hello\")\nelif a == 20:\n    print(\"End\")\nelse:\n    print(\"Empty\")",
      "execution_count": 56,
      "outputs": [
        {
          "name": "stdout",
          "output_type": "stream",
          "text": "Hello\n"
        }
      ]
    },
    {
      "metadata": {},
      "cell_type": "markdown",
      "source": "# While loop"
    },
    {
      "metadata": {
        "trusted": false
      },
      "cell_type": "code",
      "source": "i = 0\nwhile i < 6:\n    print(i)\n    i = i + 1",
      "execution_count": 57,
      "outputs": [
        {
          "name": "stdout",
          "output_type": "stream",
          "text": "0\n1\n2\n3\n4\n5\n"
        }
      ]
    },
    {
      "metadata": {},
      "cell_type": "markdown",
      "source": "# For loop"
    },
    {
      "metadata": {
        "trusted": false
      },
      "cell_type": "code",
      "source": "for i in [1,2,3]:\n    print(i)",
      "execution_count": 58,
      "outputs": [
        {
          "name": "stdout",
          "output_type": "stream",
          "text": "1\n2\n3\n"
        }
      ]
    },
    {
      "metadata": {},
      "cell_type": "markdown",
      "source": "### Q. Find the unique elements from the given list. \n\nlist = [1,2,3,4,3,4,2,3,5,6,2,1]"
    },
    {
      "metadata": {
        "trusted": true
      },
      "cell_type": "code",
      "source": "lst = [1,2,3,4,3,3,2,3,5,6,2,1]\nnew_list = []\n\nfor i in lst:\n    if i not in new_list:\n        new_list.append(i)\n        \nnew_list",
      "execution_count": 19,
      "outputs": [
        {
          "output_type": "execute_result",
          "execution_count": 19,
          "data": {
            "text/plain": "[1, 2, 3, 4, 5, 6]"
          },
          "metadata": {}
        }
      ]
    },
    {
      "metadata": {},
      "cell_type": "markdown",
      "source": "### Q. Slice to get the last 2 columns of first 2 rows.\n\nx = [[3,7,0],[1,9,9],[0,4,7]]\n\nexpected output: [[7,0],[9,9]]"
    },
    {
      "metadata": {
        "trusted": true
      },
      "cell_type": "code",
      "source": "x = [[3,7,0],[1,9,9],[0,4,7]]\n\nnew_list = []\nx = x[0:2]\n\nfor i in x:\n    n = i[1:]\n    new_list.append(n)\n    \nnew_list",
      "execution_count": 21,
      "outputs": [
        {
          "output_type": "execute_result",
          "execution_count": 21,
          "data": {
            "text/plain": "[[7, 0], [9, 9]]"
          },
          "metadata": {}
        }
      ]
    },
    {
      "metadata": {},
      "cell_type": "markdown",
      "source": "# String\n\nA string is a sequence of characters."
    },
    {
      "metadata": {
        "trusted": false
      },
      "cell_type": "code",
      "source": "S = 'I am noob'\n\nprint(S)\nprint(len(S))\nprint(S[2])\nprint(S[-2])\nprint(S[:-2])",
      "execution_count": 61,
      "outputs": [
        {
          "name": "stdout",
          "output_type": "stream",
          "text": "I am noob\n9\na\no\nI am no\n"
        }
      ]
    },
    {
      "metadata": {
        "trusted": false
      },
      "cell_type": "code",
      "source": "T = S + 'xyz'\nprint(T)\nprint(S)\n",
      "execution_count": 62,
      "outputs": [
        {
          "name": "stdout",
          "output_type": "stream",
          "text": "I am noobxyz\nI am noob\n"
        }
      ]
    },
    {
      "metadata": {
        "trusted": false
      },
      "cell_type": "code",
      "source": "T = S * 8\nprint(T)",
      "execution_count": 63,
      "outputs": [
        {
          "name": "stdout",
          "output_type": "stream",
          "text": "I am noobI am noobI am noobI am noobI am noobI am noobI am noobI am noob\n"
        }
      ]
    },
    {
      "metadata": {},
      "cell_type": "markdown",
      "source": "### Strings are immutable in python"
    },
    {
      "metadata": {
        "trusted": false
      },
      "cell_type": "code",
      "source": "S = 'Spam'\n#S[0] = 'z'\n\n#S = 'z' + S[1:]\n\nprint(S)",
      "execution_count": 64,
      "outputs": [
        {
          "name": "stdout",
          "output_type": "stream",
          "text": "Spam\n"
        }
      ]
    },
    {
      "metadata": {
        "trusted": false
      },
      "cell_type": "code",
      "source": "S = 'strawberry'\nL = list(S)\nL",
      "execution_count": 65,
      "outputs": [
        {
          "data": {
            "text/plain": "['s', 't', 'r', 'a', 'w', 'b', 'e', 'r', 'r', 'y']"
          },
          "execution_count": 65,
          "metadata": {},
          "output_type": "execute_result"
        }
      ]
    },
    {
      "metadata": {
        "trusted": false
      },
      "cell_type": "code",
      "source": "L[1] = 'c'\nL",
      "execution_count": 66,
      "outputs": [
        {
          "data": {
            "text/plain": "['s', 'c', 'r', 'a', 'w', 'b', 'e', 'r', 'r', 'y']"
          },
          "execution_count": 66,
          "metadata": {},
          "output_type": "execute_result"
        }
      ]
    },
    {
      "metadata": {
        "trusted": false
      },
      "cell_type": "code",
      "source": "'#'.join(L)",
      "execution_count": 67,
      "outputs": [
        {
          "data": {
            "text/plain": "'s#c#r#a#w#b#e#r#r#y'"
          },
          "execution_count": 67,
          "metadata": {},
          "output_type": "execute_result"
        }
      ]
    },
    {
      "metadata": {
        "trusted": false
      },
      "cell_type": "code",
      "source": "S = 'banana'\nS.find('a')",
      "execution_count": 68,
      "outputs": [
        {
          "data": {
            "text/plain": "1"
          },
          "execution_count": 68,
          "metadata": {},
          "output_type": "execute_result"
        }
      ]
    },
    {
      "metadata": {
        "trusted": false
      },
      "cell_type": "code",
      "source": "S.replace('a', 'T')",
      "execution_count": 69,
      "outputs": [
        {
          "data": {
            "text/plain": "'bTnTnT'"
          },
          "execution_count": 69,
          "metadata": {},
          "output_type": "execute_result"
        }
      ]
    },
    {
      "metadata": {
        "trusted": false
      },
      "cell_type": "code",
      "source": "S",
      "execution_count": 70,
      "outputs": [
        {
          "data": {
            "text/plain": "'banana'"
          },
          "execution_count": 70,
          "metadata": {},
          "output_type": "execute_result"
        }
      ]
    },
    {
      "metadata": {
        "trusted": false
      },
      "cell_type": "code",
      "source": "line = 'aaa,bbb,ccc'\nline.split(',')",
      "execution_count": 71,
      "outputs": [
        {
          "data": {
            "text/plain": "['aaa', 'bbb', 'ccc']"
          },
          "execution_count": 71,
          "metadata": {},
          "output_type": "execute_result"
        }
      ]
    },
    {
      "metadata": {
        "trusted": false
      },
      "cell_type": "code",
      "source": "line.upper()",
      "execution_count": 72,
      "outputs": [
        {
          "data": {
            "text/plain": "'AAA,BBB,CCC'"
          },
          "execution_count": 72,
          "metadata": {},
          "output_type": "execute_result"
        }
      ]
    },
    {
      "metadata": {
        "trusted": false
      },
      "cell_type": "code",
      "source": "line.isalpha()",
      "execution_count": 73,
      "outputs": [
        {
          "data": {
            "text/plain": "False"
          },
          "execution_count": 73,
          "metadata": {},
          "output_type": "execute_result"
        }
      ]
    },
    {
      "metadata": {
        "trusted": false
      },
      "cell_type": "code",
      "source": "# String formatting.\n\napple = 10\nbanana = 12\n\ntext = f'I have {apple} apple and {banana} banana'\nprint(text)",
      "execution_count": 74,
      "outputs": [
        {
          "name": "stdout",
          "output_type": "stream",
          "text": "I have 10 apple and 12 banana\n"
        }
      ]
    },
    {
      "metadata": {
        "trusted": false
      },
      "cell_type": "code",
      "source": "text = 'I have {} apple and {} banana'.format(apple, banana)\nprint(text)",
      "execution_count": 75,
      "outputs": [
        {
          "name": "stdout",
          "output_type": "stream",
          "text": "I have 10 apple and 12 banana\n"
        }
      ]
    },
    {
      "metadata": {},
      "cell_type": "markdown",
      "source": "# Dictionary"
    },
    {
      "metadata": {
        "trusted": false
      },
      "cell_type": "code",
      "source": "d = {'food':'Spam', 'quantity':4, 'color':'pink'}\nprint(d)",
      "execution_count": 76,
      "outputs": [
        {
          "name": "stdout",
          "output_type": "stream",
          "text": "{'food': 'Spam', 'quantity': 4, 'color': 'pink'}\n"
        }
      ]
    },
    {
      "metadata": {
        "trusted": false
      },
      "cell_type": "code",
      "source": "d['food']\n",
      "execution_count": 77,
      "outputs": [
        {
          "data": {
            "text/plain": "'Spam'"
          },
          "execution_count": 77,
          "metadata": {},
          "output_type": "execute_result"
        }
      ]
    },
    {
      "metadata": {
        "trusted": false
      },
      "cell_type": "code",
      "source": "d['quantity'] += 1\nd",
      "execution_count": 78,
      "outputs": [
        {
          "data": {
            "text/plain": "{'food': 'Spam', 'quantity': 5, 'color': 'pink'}"
          },
          "execution_count": 78,
          "metadata": {},
          "output_type": "execute_result"
        }
      ]
    },
    {
      "metadata": {
        "trusted": false
      },
      "cell_type": "code",
      "source": "d = {}\nd['name'] = 'Bob'\nd['age'] = 15\nd",
      "execution_count": 79,
      "outputs": [
        {
          "data": {
            "text/plain": "{'name': 'Bob', 'age': 15}"
          },
          "execution_count": 79,
          "metadata": {},
          "output_type": "execute_result"
        }
      ]
    },
    {
      "metadata": {
        "trusted": false
      },
      "cell_type": "code",
      "source": "d = {'a':1, 'd':2, 'c':3, 'b':5}\nd",
      "execution_count": 80,
      "outputs": [
        {
          "data": {
            "text/plain": "{'a': 1, 'd': 2, 'c': 3, 'b': 5}"
          },
          "execution_count": 80,
          "metadata": {},
          "output_type": "execute_result"
        }
      ]
    },
    {
      "metadata": {
        "trusted": false
      },
      "cell_type": "code",
      "source": "keys = list(d.keys())\nprint(keys)\n\nkeys.sort()\nprint(keys)\n\nfor k in keys:\n    print(k, '=> ', d[k])",
      "execution_count": 81,
      "outputs": [
        {
          "name": "stdout",
          "output_type": "stream",
          "text": "['a', 'd', 'c', 'b']\n['a', 'b', 'c', 'd']\na =>  1\nb =>  5\nc =>  3\nd =>  2\n"
        }
      ]
    },
    {
      "metadata": {},
      "cell_type": "markdown",
      "source": "### Q. Find the frequencey of elements from the given list. \n\nd = [1,2,3,4,3,4,2,3,5,6,2,1]"
    },
    {
      "metadata": {
        "trusted": true
      },
      "cell_type": "code",
      "source": "d = [1,2,3,4,3,4,2,3,5,6,2,1]\n\nnew_dic = {}\n\nfor i in d:\n    if i in new_dic:\n        new_dic[i] += 1\n    else:\n        new_dic[i] = 1\nnew_dic",
      "execution_count": 22,
      "outputs": [
        {
          "output_type": "execute_result",
          "execution_count": 22,
          "data": {
            "text/plain": "{1: 2, 2: 3, 3: 3, 4: 2, 5: 1, 6: 1}"
          },
          "metadata": {}
        }
      ]
    },
    {
      "metadata": {},
      "cell_type": "markdown",
      "source": "# Tuples\n\nThe tuple is roughly like a list but they are immutable"
    },
    {
      "metadata": {
        "trusted": false
      },
      "cell_type": "code",
      "source": "T = (1, 2, 3, 4, 4)\nlen(T)",
      "execution_count": 83,
      "outputs": [
        {
          "data": {
            "text/plain": "5"
          },
          "execution_count": 83,
          "metadata": {},
          "output_type": "execute_result"
        }
      ]
    },
    {
      "metadata": {
        "trusted": false
      },
      "cell_type": "code",
      "source": "T + (5,6)\n",
      "execution_count": 84,
      "outputs": [
        {
          "data": {
            "text/plain": "(1, 2, 3, 4, 4, 5, 6)"
          },
          "execution_count": 84,
          "metadata": {},
          "output_type": "execute_result"
        }
      ]
    },
    {
      "metadata": {
        "trusted": false
      },
      "cell_type": "code",
      "source": "T[0]",
      "execution_count": 85,
      "outputs": [
        {
          "data": {
            "text/plain": "1"
          },
          "execution_count": 85,
          "metadata": {},
          "output_type": "execute_result"
        }
      ]
    },
    {
      "metadata": {
        "trusted": false
      },
      "cell_type": "code",
      "source": "T[1:4]",
      "execution_count": 86,
      "outputs": [
        {
          "data": {
            "text/plain": "(2, 3, 4)"
          },
          "execution_count": 86,
          "metadata": {},
          "output_type": "execute_result"
        }
      ]
    },
    {
      "metadata": {
        "trusted": false
      },
      "cell_type": "code",
      "source": "# Tuples are immutable\n# T[0] = 2\n# T.append(10)",
      "execution_count": 87,
      "outputs": []
    },
    {
      "metadata": {},
      "cell_type": "markdown",
      "source": "# Set"
    },
    {
      "metadata": {
        "trusted": false
      },
      "cell_type": "code",
      "source": "myset = {1, 2}\nmyset\n\n",
      "execution_count": 88,
      "outputs": [
        {
          "data": {
            "text/plain": "{1, 2}"
          },
          "execution_count": 88,
          "metadata": {},
          "output_type": "execute_result"
        }
      ]
    },
    {
      "metadata": {
        "trusted": false
      },
      "cell_type": "code",
      "source": "myset = {1,2,3,1,2}\nmyset",
      "execution_count": 89,
      "outputs": [
        {
          "data": {
            "text/plain": "{1, 2, 3}"
          },
          "execution_count": 89,
          "metadata": {},
          "output_type": "execute_result"
        }
      ]
    },
    {
      "metadata": {
        "trusted": false
      },
      "cell_type": "code",
      "source": "myset = {'a', 'b'}\n\n# add adds an individual element to the set.\nmyset.add('c')\nprint(myset)",
      "execution_count": 90,
      "outputs": [
        {
          "name": "stdout",
          "output_type": "stream",
          "text": "{'a', 'b', 'c'}\n"
        }
      ]
    },
    {
      "metadata": {
        "trusted": false
      },
      "cell_type": "code",
      "source": "# Set doesn't support indexing\n# myset[0]",
      "execution_count": 91,
      "outputs": []
    },
    {
      "metadata": {
        "trusted": false
      },
      "cell_type": "code",
      "source": "myset.update({8,9})\nprint(myset)",
      "execution_count": 92,
      "outputs": [
        {
          "name": "stdout",
          "output_type": "stream",
          "text": "{'a', 'b', 'c', 8, 9}\n"
        }
      ]
    },
    {
      "metadata": {
        "trusted": false
      },
      "cell_type": "code",
      "source": "myset.remove('a')\nmyset",
      "execution_count": 93,
      "outputs": [
        {
          "data": {
            "text/plain": "{8, 9, 'b', 'c'}"
          },
          "execution_count": 93,
          "metadata": {},
          "output_type": "execute_result"
        }
      ]
    },
    {
      "metadata": {
        "trusted": false
      },
      "cell_type": "code",
      "source": "# common set operations\na = {2, 4, 5, 9}\nb = {2, 4, 11, 12}\n\nprint(a.union(b))\nprint(a.intersection(b))\nprint(a.difference(b))",
      "execution_count": 94,
      "outputs": [
        {
          "name": "stdout",
          "output_type": "stream",
          "text": "{2, 4, 5, 9, 11, 12}\n{2, 4}\n{9, 5}\n"
        }
      ]
    },
    {
      "metadata": {},
      "cell_type": "markdown",
      "source": "### Q. Write a Python program to replace last value of tuples in a list. \nSample list: [(10, 20, 40), (40, 50, 60), (70, 80, 90)]\n\nExpected Output: [(10, 20, 100), (40, 50, 100), (70, 80, 100)] "
    },
    {
      "metadata": {
        "trusted": true,
        "scrolled": true
      },
      "cell_type": "code",
      "source": "lst = [(10, 20, 40), (40, 50, 60), (70, 80, 90)]\n#using list comprehension\n#adding 100 at the last element of tuple\nlst = [item[:2] + (100,) for item in lst] # without comma 100 is just integer\nlst",
      "execution_count": 49,
      "outputs": [
        {
          "output_type": "execute_result",
          "execution_count": 49,
          "data": {
            "text/plain": "[(10, 20, 100), (40, 50, 100), (70, 80, 100)]"
          },
          "metadata": {}
        }
      ]
    },
    {
      "metadata": {},
      "cell_type": "markdown",
      "source": "# Function\n\nWe use functions in programming to bundle a set of instructions that you want to use repeatedly."
    },
    {
      "metadata": {
        "trusted": false
      },
      "cell_type": "code",
      "source": "def hello():\n    print(\"Hello World\")\n   \nhello()",
      "execution_count": 96,
      "outputs": [
        {
          "name": "stdout",
          "output_type": "stream",
          "text": "Hello World\n"
        }
      ]
    },
    {
      "metadata": {
        "trusted": false
      },
      "cell_type": "code",
      "source": "def hello(name):\n    print(\"Hello:\", name, \"!!!\")\n\nhello(\"people\")",
      "execution_count": 97,
      "outputs": [
        {
          "name": "stdout",
          "output_type": "stream",
          "text": "Hello: people !!!\n"
        }
      ]
    },
    {
      "metadata": {
        "trusted": false
      },
      "cell_type": "code",
      "source": "def hello(name, age=12):\n    print(\"Hello:\",name, \"with age:\", age)\n\nhello(\"people\")",
      "execution_count": 98,
      "outputs": [
        {
          "name": "stdout",
          "output_type": "stream",
          "text": "Hello: people with age: 12\n"
        }
      ]
    },
    {
      "metadata": {
        "trusted": false
      },
      "cell_type": "code",
      "source": "def hello(name, age=12):\n    print(\"Hello:\",name, \"with age:\", age)\n\nhello(\"people\", 15)",
      "execution_count": 99,
      "outputs": [
        {
          "name": "stdout",
          "output_type": "stream",
          "text": "Hello: people with age: 15\n"
        }
      ]
    },
    {
      "metadata": {
        "trusted": false
      },
      "cell_type": "code",
      "source": "def hello(name, age):\n    print(\"Hello:\",name, \"with age:\", age)\n\nhello(\"people\", 20)",
      "execution_count": 100,
      "outputs": [
        {
          "name": "stdout",
          "output_type": "stream",
          "text": "Hello: people with age: 20\n"
        }
      ]
    },
    {
      "metadata": {
        "trusted": false
      },
      "cell_type": "code",
      "source": "def return_value():\n    a = 10\n    b = 10\n    return a + b\n\nres = return_value()\nprint(res)",
      "execution_count": 101,
      "outputs": [
        {
          "name": "stdout",
          "output_type": "stream",
          "text": "20\n"
        }
      ]
    },
    {
      "metadata": {
        "trusted": false
      },
      "cell_type": "code",
      "source": "def return_multiple_value():\n    a = 10\n    b = 10\n    return a+b, a-b, a*b\n\nadd, sub, mul = return_multiple_value()\nprint(add)\nprint(sub)\nprint(mul)",
      "execution_count": 102,
      "outputs": [
        {
          "name": "stdout",
          "output_type": "stream",
          "text": "20\n0\n100\n"
        }
      ]
    },
    {
      "metadata": {},
      "cell_type": "markdown",
      "source": "# lamda function\n\nlambda function is used for creating small, one-time and anonymous function objects in Python"
    },
    {
      "metadata": {
        "trusted": false
      },
      "cell_type": "code",
      "source": "# user define function\n\ndef sum(a, b):\n    return a + b\n\nsum(5, 6)",
      "execution_count": 103,
      "outputs": [
        {
          "data": {
            "text/plain": "11"
          },
          "execution_count": 103,
          "metadata": {},
          "output_type": "execute_result"
        }
      ]
    },
    {
      "metadata": {
        "trusted": false
      },
      "cell_type": "code",
      "source": "# lamda function\nadd = lambda a, b: a + b \n\nadd(5,6)",
      "execution_count": 104,
      "outputs": [
        {
          "data": {
            "text/plain": "11"
          },
          "execution_count": 104,
          "metadata": {},
          "output_type": "execute_result"
        }
      ]
    },
    {
      "metadata": {},
      "cell_type": "markdown",
      "source": "# Range"
    },
    {
      "metadata": {
        "trusted": false
      },
      "cell_type": "code",
      "source": "for i in range(0, 10):\n    print(i)",
      "execution_count": 105,
      "outputs": [
        {
          "name": "stdout",
          "output_type": "stream",
          "text": "0\n1\n2\n3\n4\n5\n6\n7\n8\n9\n"
        }
      ]
    },
    {
      "metadata": {
        "trusted": false
      },
      "cell_type": "code",
      "source": "for i in range(10):\n    print(i)",
      "execution_count": 106,
      "outputs": [
        {
          "name": "stdout",
          "output_type": "stream",
          "text": "0\n1\n2\n3\n4\n5\n6\n7\n8\n9\n"
        }
      ]
    },
    {
      "metadata": {},
      "cell_type": "markdown",
      "source": "# Q. Print the even number from 7 to 71 "
    },
    {
      "metadata": {
        "trusted": true
      },
      "cell_type": "code",
      "source": "for i in range(7,72):\n    if i % 2 == 0:\n        print(i,end=\"\\t\")",
      "execution_count": 52,
      "outputs": [
        {
          "output_type": "stream",
          "text": "8\t10\t12\t14\t16\t18\t20\t22\t24\t26\t28\t30\t32\t34\t36\t38\t40\t42\t44\t46\t48\t50\t52\t54\t56\t58\t60\t62\t64\t66\t68\t70\t",
          "name": "stdout"
        }
      ]
    },
    {
      "metadata": {},
      "cell_type": "markdown",
      "source": "# Q. Write a program which will find all such numbers which are divisible by 7 but are not a multiple of 5, between 2000 and 3200 (both included). The numbers obtained should be printed in a comma-separated string."
    },
    {
      "metadata": {
        "trusted": true
      },
      "cell_type": "code",
      "source": "x = []\nfor num in range(200,3201):\n    if num % 7 == 0 and num % 5 != 0:\n        x.append(str(num))\n        \nprint(','.join(x))",
      "execution_count": 64,
      "outputs": [
        {
          "output_type": "stream",
          "text": "203,217,224,231,238,252,259,266,273,287,294,301,308,322,329,336,343,357,364,371,378,392,399,406,413,427,434,441,448,462,469,476,483,497,504,511,518,532,539,546,553,567,574,581,588,602,609,616,623,637,644,651,658,672,679,686,693,707,714,721,728,742,749,756,763,777,784,791,798,812,819,826,833,847,854,861,868,882,889,896,903,917,924,931,938,952,959,966,973,987,994,1001,1008,1022,1029,1036,1043,1057,1064,1071,1078,1092,1099,1106,1113,1127,1134,1141,1148,1162,1169,1176,1183,1197,1204,1211,1218,1232,1239,1246,1253,1267,1274,1281,1288,1302,1309,1316,1323,1337,1344,1351,1358,1372,1379,1386,1393,1407,1414,1421,1428,1442,1449,1456,1463,1477,1484,1491,1498,1512,1519,1526,1533,1547,1554,1561,1568,1582,1589,1596,1603,1617,1624,1631,1638,1652,1659,1666,1673,1687,1694,1701,1708,1722,1729,1736,1743,1757,1764,1771,1778,1792,1799,1806,1813,1827,1834,1841,1848,1862,1869,1876,1883,1897,1904,1911,1918,1932,1939,1946,1953,1967,1974,1981,1988,2002,2009,2016,2023,2037,2044,2051,2058,2072,2079,2086,2093,2107,2114,2121,2128,2142,2149,2156,2163,2177,2184,2191,2198,2212,2219,2226,2233,2247,2254,2261,2268,2282,2289,2296,2303,2317,2324,2331,2338,2352,2359,2366,2373,2387,2394,2401,2408,2422,2429,2436,2443,2457,2464,2471,2478,2492,2499,2506,2513,2527,2534,2541,2548,2562,2569,2576,2583,2597,2604,2611,2618,2632,2639,2646,2653,2667,2674,2681,2688,2702,2709,2716,2723,2737,2744,2751,2758,2772,2779,2786,2793,2807,2814,2821,2828,2842,2849,2856,2863,2877,2884,2891,2898,2912,2919,2926,2933,2947,2954,2961,2968,2982,2989,2996,3003,3017,3024,3031,3038,3052,3059,3066,3073,3087,3094,3101,3108,3122,3129,3136,3143,3157,3164,3171,3178,3192,3199\n",
          "name": "stdout"
        }
      ]
    },
    {
      "metadata": {},
      "cell_type": "markdown",
      "source": "# Q. Write a program that accepts a comma separated sequence of words as input and prints the words in a comma-separated sequence after sorting them alphabetically.\n\nSuppose the following input is supplied to the program:\n\nwithout,hello,bag,world\n\nThen, the output should be:\n\nbag,hello,without,world"
    },
    {
      "metadata": {
        "trusted": true
      },
      "cell_type": "code",
      "source": "words = input()\nwords = words.split(\",\") #converting into list\n#print(words)\nwords.sort()\nprint(','.join(words))",
      "execution_count": 73,
      "outputs": [
        {
          "output_type": "stream",
          "name": "stdout",
          "text": "without,hello,bag,world\n['without', 'hello', 'bag', 'world']\nbag,hello,without,world\n"
        }
      ]
    },
    {
      "metadata": {},
      "cell_type": "markdown",
      "source": "# Q. Write a program that accepts a sentence and calculate the number of letters and digits.\n\nSuppose the following input is supplied to the program:\n\nhello world! 123\n\nThen, the output should be:\n\nLETTERS 10\n\nDIGITS 3"
    },
    {
      "metadata": {
        "trusted": true
      },
      "cell_type": "code",
      "source": "def calculate(sentence):\n    letter = 0\n    digit = 0\n    for ch in sentence:\n        if ch.isdigit():\n            digit += 1\n        elif ch.isalpha():\n            letter += 1\n        else:\n            pass\n    return (letter, digit)\n\nsentence = input()\nl , d = calculate(sentence)\n\nprint(\"LETTER : {0:d}\\n DIGIT : {1:d}\".format(l,d))",
      "execution_count": 76,
      "outputs": [
        {
          "output_type": "stream",
          "name": "stdout",
          "text": "my hello 1234\nLETTER : 7\n DIGIT : 4\n"
        }
      ]
    },
    {
      "metadata": {},
      "cell_type": "markdown",
      "source": "# Exceptation Handling\n\nAn exception is an error that happens during execution of a program. When that error occurs, Python generate an exception that can be handled, which avoids your program to crash.\n"
    },
    {
      "metadata": {
        "trusted": false
      },
      "cell_type": "code",
      "source": "x = 1/ 10",
      "execution_count": 111,
      "outputs": []
    },
    {
      "metadata": {
        "trusted": false
      },
      "cell_type": "code",
      "source": "try:\n    x = 1/10\n    print(x)\nexcept Exception as e:\n    print(\"Error handling\")",
      "execution_count": 112,
      "outputs": [
        {
          "name": "stdout",
          "output_type": "stream",
          "text": "0.1\n"
        }
      ]
    },
    {
      "metadata": {
        "trusted": false
      },
      "cell_type": "code",
      "source": "try:\n    x = 1/0\nexcept Exception as e:\n    print(\"Error handling\")",
      "execution_count": 113,
      "outputs": [
        {
          "name": "stdout",
          "output_type": "stream",
          "text": "Error handling\n"
        }
      ]
    },
    {
      "metadata": {
        "trusted": false
      },
      "cell_type": "code",
      "source": "try:\n    x = 1/10\nexcept Exception as e:\n    print(\"Error handling\")\nfinally:\n    print(\"Finally end\")",
      "execution_count": 114,
      "outputs": [
        {
          "name": "stdout",
          "output_type": "stream",
          "text": "Finally end\n"
        }
      ]
    },
    {
      "metadata": {
        "trusted": false
      },
      "cell_type": "code",
      "source": "try:\n    x = 1/0\nexcept Exception as e:\n    print(\"Error handling\")\nfinally:\n    print(\"Finally end\")",
      "execution_count": 115,
      "outputs": [
        {
          "name": "stdout",
          "output_type": "stream",
          "text": "Error handling\nFinally end\n"
        }
      ]
    },
    {
      "metadata": {
        "trusted": false
      },
      "cell_type": "code",
      "source": "def error_handling():\n    try:\n        x = 1/0\n        return (x)\n    except Exception as e:\n        print(\"Error handling\")\n        raise e\n    finally:\n        print(\"Finally end\")",
      "execution_count": 116,
      "outputs": []
    },
    {
      "metadata": {
        "trusted": false
      },
      "cell_type": "code",
      "source": "try: \n    print(error_handling())\nexcept:\n    print(\"Handling throw exception\")",
      "execution_count": 117,
      "outputs": [
        {
          "name": "stdout",
          "output_type": "stream",
          "text": "Error handling\nFinally end\nHandling throw exception\n"
        }
      ]
    },
    {
      "metadata": {},
      "cell_type": "markdown",
      "source": "# OOP in python"
    },
    {
      "metadata": {},
      "cell_type": "markdown",
      "source": "A class is a blueprint or prototype that defines the variables and the methods (functions) common to all objects of a certain kind. \n\nAn object is a specimen of a class"
    },
    {
      "metadata": {
        "trusted": false
      },
      "cell_type": "code",
      "source": "# creating a class\nclass Dog:\n    def __init__(self):\n        print(\"Dog\")\n\ndog = Dog()",
      "execution_count": 118,
      "outputs": [
        {
          "name": "stdout",
          "output_type": "stream",
          "text": "Dog\n"
        }
      ]
    },
    {
      "metadata": {
        "trusted": false
      },
      "cell_type": "code",
      "source": "# adding attributes to a class\n# self is used to access the instance variable and methods. \nclass Dog:\n    \n    doggy = 10\n    \n    def __init__(self, name, age):\n        self.name = name\n        self.age = age\n    ",
      "execution_count": 119,
      "outputs": []
    },
    {
      "metadata": {
        "trusted": false
      },
      "cell_type": "code",
      "source": "Dog.doggy\n#Dog.name",
      "execution_count": 120,
      "outputs": [
        {
          "data": {
            "text/plain": "10"
          },
          "execution_count": 120,
          "metadata": {},
          "output_type": "execute_result"
        }
      ]
    },
    {
      "metadata": {
        "trusted": false
      },
      "cell_type": "code",
      "source": "\nozzy = Dog(\"Ozzy\", 2)\nprint(ozzy.name)\nprint(ozzy.age)",
      "execution_count": 121,
      "outputs": [
        {
          "name": "stdout",
          "output_type": "stream",
          "text": "Ozzy\n2\n"
        }
      ]
    },
    {
      "metadata": {
        "trusted": false
      },
      "cell_type": "code",
      "source": "# define methods in a class\nclass Dog:\n    def __init__(self, name, age):\n        self.name = name\n        self.age = age\n    \n    def setbuddy(self, buddy):\n        self.buddy = buddy\n    \n    def doginfo(self):\n        print(self.name + \"is \" + str(self.age) + \" year(s) old.\")",
      "execution_count": 122,
      "outputs": []
    },
    {
      "metadata": {
        "trusted": false
      },
      "cell_type": "code",
      "source": "ozzy = Dog(\"Ozzy\", 2)\n\n\n",
      "execution_count": 123,
      "outputs": []
    },
    {
      "metadata": {
        "trusted": false
      },
      "cell_type": "code",
      "source": "ozzy.doginfo()\n",
      "execution_count": 124,
      "outputs": [
        {
          "name": "stdout",
          "output_type": "stream",
          "text": "Ozzyis 2 year(s) old.\n"
        }
      ]
    },
    {
      "metadata": {
        "trusted": false
      },
      "cell_type": "code",
      "source": "ozzy.age = 3\nprint(ozzy.age)",
      "execution_count": 125,
      "outputs": [
        {
          "name": "stdout",
          "output_type": "stream",
          "text": "3\n"
        }
      ]
    },
    {
      "metadata": {
        "trusted": false
      },
      "cell_type": "code",
      "source": "ozzy.setbuddy(\"Skippy\")\nprint(ozzy.buddy)",
      "execution_count": 126,
      "outputs": [
        {
          "name": "stdout",
          "output_type": "stream",
          "text": "Skippy\n"
        }
      ]
    },
    {
      "metadata": {},
      "cell_type": "markdown",
      "source": "# Inheritance"
    },
    {
      "metadata": {
        "trusted": false
      },
      "cell_type": "code",
      "source": "#Parent class\nclass Bird:\n    \n    def __init__(self):\n        print(\"Bird is ready\")\n    \n    def who_is_this(self):\n        print(\"Bird\")\n    \n    def swim(self):\n        print(\"Swim faster\")\n\n#Child class\nclass Penguin(Bird):\n    \n    def __init__(self):\n        super().__init__()\n        print(\"Penguin is ready\")\n    \n    def who_is_this(self):\n        print(\"Penguin\")\n    \n    def run(self):\n        print(\"Run faster\")\n    ",
      "execution_count": 127,
      "outputs": []
    },
    {
      "metadata": {
        "trusted": false
      },
      "cell_type": "code",
      "source": "bird = Bird()\nbird.swim()\n",
      "execution_count": 128,
      "outputs": [
        {
          "name": "stdout",
          "output_type": "stream",
          "text": "Bird is ready\nSwim faster\n"
        }
      ]
    },
    {
      "metadata": {
        "trusted": false
      },
      "cell_type": "code",
      "source": "peggy = Penguin()\npeggy.who_is_this()\npeggy.swim()\npeggy.run()",
      "execution_count": 129,
      "outputs": [
        {
          "name": "stdout",
          "output_type": "stream",
          "text": "Bird is ready\nPenguin is ready\nPenguin\nSwim faster\nRun faster\n"
        }
      ]
    },
    {
      "metadata": {},
      "cell_type": "markdown",
      "source": "### Python multiple inheritance and the diamond problem\n\nQ. How does the python resolve the diamond problem."
    },
    {
      "metadata": {
        "trusted": false
      },
      "cell_type": "code",
      "source": "# Diamond Problem\nclass A(object):\n    pass\n\nclass B(A):\n    pass\n\nclass C(A):\n    pass\n\nclass D(B,C): #multiple inheritance \n    pass\n\n",
      "execution_count": 130,
      "outputs": []
    },
    {
      "metadata": {},
      "cell_type": "markdown",
      "source": "# Diamond problem resolving:\n\n- Python follows a depth-first order for resolving methods and attributes.\n- In case of multiple inheritances where the methods happen to occur more than once, python omits the first occurrence of a class in the Method Resolution Order."
    },
    {
      "metadata": {
        "trusted": false
      },
      "cell_type": "code",
      "source": "class A(object):\n\n    def __init__(self):\n        print(\"A Constructor\")\n        super(A, self).__init__()\n\nclass B(A):\n    def __init__(self):\n        print(\"B Constructor\")\n        super(B, self).__init__()\n\nclass C(A):\n    def __init__(self):\n        print(\"C Constructor\")\n        super().__init__()\n\n    def user_define_method(self):\n        print(\"C method\")  \n\n\nclass D(B, C):\n    def __init__(self):\n        print(\"D Constructor\")\n        super(D, self).__init__()\n        super().user_define_method()",
      "execution_count": 131,
      "outputs": []
    },
    {
      "metadata": {
        "trusted": false
      },
      "cell_type": "code",
      "source": "\nprint(D.__mro__)",
      "execution_count": 132,
      "outputs": [
        {
          "name": "stdout",
          "output_type": "stream",
          "text": "(<class '__main__.D'>, <class '__main__.B'>, <class '__main__.C'>, <class '__main__.A'>, <class 'object'>)\n"
        }
      ]
    },
    {
      "metadata": {
        "trusted": false
      },
      "cell_type": "code",
      "source": "d = D()",
      "execution_count": 133,
      "outputs": [
        {
          "name": "stdout",
          "output_type": "stream",
          "text": "D Constructor\nB Constructor\nC Constructor\nA Constructor\nC method\n"
        }
      ]
    },
    {
      "metadata": {
        "trusted": false
      },
      "cell_type": "code",
      "source": "",
      "execution_count": null,
      "outputs": []
    },
    {
      "metadata": {
        "trusted": false
      },
      "cell_type": "code",
      "source": "",
      "execution_count": null,
      "outputs": []
    }
  ],
  "metadata": {
    "kernelspec": {
      "name": "python3",
      "display_name": "Python 3",
      "language": "python"
    },
    "language_info": {
      "mimetype": "text/x-python",
      "nbconvert_exporter": "python",
      "name": "python",
      "pygments_lexer": "ipython3",
      "version": "3.5.4",
      "file_extension": ".py",
      "codemirror_mode": {
        "version": 3,
        "name": "ipython"
      }
    }
  },
  "nbformat": 4,
  "nbformat_minor": 2
}