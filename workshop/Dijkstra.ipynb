{
 "cells": [
  {
   "cell_type": "code",
   "execution_count": 1,
   "metadata": {},
   "outputs": [],
   "source": [
    "import sys\n",
    "\n",
    "class Vertex(object):\n",
    "    \n",
    "    def __init__(self, name):\n",
    "        self.name = name\n",
    "        self.predecessor = None\n",
    "        self.adjacencies = []\n",
    "        self.min_distance = sys.maxsize\n",
    "    \n",
    "    def __lt__(self, other):\n",
    "        self_priority = self.min_distance\n",
    "        other_priority = other.min_distance\n",
    "        \n",
    "        return self_priority < other_priority\n",
    "    "
   ]
  },
  {
   "cell_type": "code",
   "execution_count": 2,
   "metadata": {},
   "outputs": [],
   "source": [
    "class Edge(object):\n",
    "    \n",
    "    def __init__(self, weight, start_vertex, target_vertex):\n",
    "        \n",
    "        self.weight = weight\n",
    "        self.start_vertex = start_vertex\n",
    "        self.target_vertex = target_vertex"
   ]
  },
  {
   "cell_type": "code",
   "execution_count": 3,
   "metadata": {},
   "outputs": [],
   "source": [
    "import heapq\n",
    "\n",
    "def calculate_shortest_path(vertex_list, start_vertex):\n",
    "    \n",
    "    queue = []\n",
    "    start_vertex.min_distance = 0\n",
    "    heapq.heappush(queue, start_vertex)\n",
    "    \n",
    "    while queue:\n",
    "        \n",
    "        actual_vertex = heapq.heappop(queue)\n",
    "        \n",
    "        for edge in actual_vertex.adjacencies:\n",
    "            \n",
    "            u = edge.start_vertex\n",
    "            v = edge.target_vertex\n",
    "            \n",
    "            new_distance = u.min_distance + edge.weight\n",
    "            \n",
    "            if new_distance < v.min_distance:\n",
    "                v.predecessor = u\n",
    "                v.min_distance = new_distance\n",
    "                heapq.heappush(queue, v)\n",
    "                \n",
    "\n",
    "    \n",
    "def get_shortest_path(target_vertex):\n",
    "    \n",
    "    print(\"Shortest path: \", target_vertex.min_distance)\n",
    "    \n",
    "    node = target_vertex\n",
    "    \n",
    "    while node is not None:\n",
    "        print(node.name)\n",
    "        node = node.predecessor"
   ]
  },
  {
   "cell_type": "code",
   "execution_count": 4,
   "metadata": {},
   "outputs": [
    {
     "name": "stdout",
     "output_type": "stream",
     "text": [
      "Shortest path:  22\n",
      "G\n",
      "F\n",
      "D\n",
      "A\n"
     ]
    }
   ],
   "source": [
    "node_A = Vertex(\"A\")\n",
    "node_B = Vertex(\"B\")\n",
    "node_C = Vertex(\"C\")\n",
    "node_D = Vertex(\"D\")\n",
    "node_E = Vertex(\"E\")\n",
    "node_F = Vertex(\"F\")\n",
    "node_G = Vertex(\"G\")\n",
    "\n",
    "\n",
    "edge_1 = Edge(7, node_A, node_B)\n",
    "edge_2 = Edge(5, node_A, node_D)\n",
    "edge_3 = Edge(8, node_B, node_C)\n",
    "edge_4 = Edge(9, node_B, node_D)\n",
    "edge_5 = Edge(7, node_B, node_E)\n",
    "edge_6 = Edge(5, node_C, node_E)\n",
    "edge_7 = Edge(15, node_D, node_E)\n",
    "edge_8 = Edge(6, node_D, node_F)\n",
    "edge_9 = Edge(8, node_E, node_F)\n",
    "edge_10 = Edge(9, node_E, node_G)\n",
    "edge_11 = Edge(11, node_F, node_G)\n",
    "\n",
    "\n",
    "node_A.adjacencies.extend([edge_1, edge_2])\n",
    "node_B.adjacencies.extend([edge_3, edge_4, edge_5])\n",
    "node_C.adjacencies.extend([edge_6])\n",
    "node_D.adjacencies.extend([edge_7, edge_8])\n",
    "node_E.adjacencies.extend([edge_9, edge_10])\n",
    "node_F.adjacencies.extend([edge_11])\n",
    "\n",
    "\n",
    "vertex_list = {node_A, node_B, node_C, node_D, node_E, node_F, node_G}\n",
    "\n",
    "calculate_shortest_path(vertex_list, node_A)\n",
    "get_shortest_path(node_G)"
   ]
  },
  {
   "cell_type": "code",
   "execution_count": null,
   "metadata": {},
   "outputs": [],
   "source": []
  }
 ],
 "metadata": {
  "kernelspec": {
   "display_name": "Python 3",
   "language": "python",
   "name": "python3"
  },
  "language_info": {
   "codemirror_mode": {
    "name": "ipython",
    "version": 3
   },
   "file_extension": ".py",
   "mimetype": "text/x-python",
   "name": "python",
   "nbconvert_exporter": "python",
   "pygments_lexer": "ipython3",
   "version": "3.7.0"
  }
 },
 "nbformat": 4,
 "nbformat_minor": 2
}
