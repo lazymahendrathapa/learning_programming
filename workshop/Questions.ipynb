{
 "cells": [
  {
   "cell_type": "markdown",
   "metadata": {},
   "source": [
    "# Q. You are given a string and your task is to swap cases. In other words, convert all lowercase letters to uppercase letters and vice versa.\n",
    "\n",
    "input: 'This is mE 123'\n",
    "\n",
    "output: 'tHIS IS Me 123'"
   ]
  },
  {
   "cell_type": "markdown",
   "metadata": {},
   "source": [
    "# Q. The user enters a string and a substring. You have to print the number of times that the substring occurs in the given string. String traversal will take place from left to right, not from right to left.\n",
    "\n",
    "Input: \n",
    "\n",
    "ABCDCDC\n",
    "\n",
    "CDC\n",
    "\n",
    "Output:\n",
    "\n",
    "2"
   ]
  },
  {
   "cell_type": "markdown",
   "metadata": {},
   "source": [
    "# Q. You are given a string and your task is remove all Upper case letters. \n",
    "\n",
    "input: 'This is mE 123'\n",
    "\n",
    "output: 'his is m 123'"
   ]
  },
  {
   "cell_type": "markdown",
   "metadata": {},
   "source": [
    "# Q. Find the maximum value from the given list \n",
    "\n",
    "\"Don't use max() function \"\n",
    "\n",
    "input: [12, 3, 20, 45, 67]\n",
    "\n",
    "output: 67\n"
   ]
  },
  {
   "cell_type": "markdown",
   "metadata": {},
   "source": [
    "# Q. Find the element wise sum of two 2-d list\n",
    "\n",
    "input: [[1,2],[3,4]], [[1,1],[1,1]]\n",
    "\n",
    "output: [[2,3],[4,5]]"
   ]
  },
  {
   "cell_type": "markdown",
   "metadata": {},
   "source": [
    "# Q.  Write a Python program to insert a given string at the beginning of all items in a list.\n",
    "\n",
    "Sample list : [1,2,3,4], string : emp\n",
    "\n",
    "Expected output : ['emp1', 'emp2', 'emp3', 'emp4']"
   ]
  },
  {
   "cell_type": "markdown",
   "metadata": {},
   "source": [
    "# Q. Sort the list of tuple based on second item\n",
    "\n",
    "input: [('A',10),('B', 2), ('C', 7)]\n",
    "\n",
    "output:  [('B', 2),('C', 7), ('A',10)]"
   ]
  },
  {
   "cell_type": "markdown",
   "metadata": {},
   "source": [
    "# Q. Remove the items from the given dictionary having highest value.\n",
    "\n",
    "input: {'A':10, 'B':3, 'C':12, 'D':2}\n",
    "\n",
    "output: {'A':10, 'B':3,'D':2}"
   ]
  },
  {
   "cell_type": "markdown",
   "metadata": {},
   "source": [
    "# Q. Create a class to:\n",
    "- To print \"Hello World\" in constructor.\n",
    "- A method to take two negative decimal number as input from the user and perform the multiplication operation. \n",
    "- A method to print the multiplication operation result"
   ]
  },
  {
   "cell_type": "markdown",
   "metadata": {},
   "source": [
    "# Q. Multiply the each element of given list by 10. \n",
    "\n",
    "input: [[1,2], [3,4], [5,6]]\n",
    "\n",
    "output: [[10,20], [30,40], [50, 60]]"
   ]
  },
  {
   "cell_type": "markdown",
   "metadata": {},
   "source": [
    "# Q. Take the space seperated integer as input from the user and print the sum of the elements.\n",
    "\n",
    "input: 1 3 2 4 10\n",
    "    \n",
    "output: 20"
   ]
  },
  {
   "cell_type": "markdown",
   "metadata": {},
   "source": [
    "# Q. Remove the key,value pair from the given dictionary when value are between 10 and 20 (both included) and  odd.\n",
    "\n",
    "input: {'a':1, 'b':13, 'c':10, 'd': 9, 'e':12, 'f':30}\n",
    "\n",
    "output: {'a':1, 'd': 9,'c':10, 'e':12, 'f':30}"
   ]
  },
  {
   "cell_type": "markdown",
   "metadata": {},
   "source": [
    "# Q. Print the given dictionary by sorting according to the value in descending order.\n",
    "\n",
    "input: {'a':1, 'b':14, 'c':10, 'd': 9, 'e':12, 'f':30}\n",
    "\n",
    "output: <br> 'f':30 <br>'b':14 <br> 'e':12  <br>'c':10 <br> 'd':9 <br> 'a':1 \n",
    "\n"
   ]
  },
  {
   "cell_type": "code",
   "execution_count": null,
   "metadata": {},
   "outputs": [],
   "source": []
  }
 ],
 "metadata": {
  "kernelspec": {
   "display_name": "Python 3",
   "language": "python",
   "name": "python3"
  },
  "language_info": {
   "codemirror_mode": {
    "name": "ipython",
    "version": 3
   },
   "file_extension": ".py",
   "mimetype": "text/x-python",
   "name": "python",
   "nbconvert_exporter": "python",
   "pygments_lexer": "ipython3",
   "version": "3.6.5"
  }
 },
 "nbformat": 4,
 "nbformat_minor": 2
}
