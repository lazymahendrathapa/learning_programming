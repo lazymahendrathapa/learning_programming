{
 "cells": [
  {
   "cell_type": "code",
   "execution_count": 1,
   "metadata": {},
   "outputs": [
    {
     "name": "stdin",
     "output_type": "stream",
     "text": [
      " 3 2\n",
      " 1 5 3\n",
      " 3 1\n",
      " 5 7\n"
     ]
    },
    {
     "name": "stdout",
     "output_type": "stream",
     "text": [
      "1\n"
     ]
    }
   ],
   "source": [
    "n, m = list(map(int, input().split()))\n",
    "\n",
    "items = list(map(int, input().split()))\n",
    "\n",
    "set_a = set(map(int, input().split()))\n",
    "\n",
    "set_b = set(map(int, input().split()))\n",
    "\n",
    "from collections import Counter\n",
    "\n",
    "score = 0\n",
    "\n",
    "items_freq = Counter(items)\n",
    "\n",
    "for i in set_a:\n",
    "    count = items_freq.get(i,0)\n",
    "    score += count\n",
    "\n",
    "for j in set_b:\n",
    "    count = items_freq.get(j,0)\n",
    "    score -= count\n",
    "    \n",
    "print(score)\n"
   ]
  },
  {
   "cell_type": "code",
   "execution_count": null,
   "metadata": {},
   "outputs": [],
   "source": []
  }
 ],
 "metadata": {
  "kernelspec": {
   "display_name": "Python 3",
   "language": "python",
   "name": "python3"
  },
  "language_info": {
   "codemirror_mode": {
    "name": "ipython",
    "version": 3
   },
   "file_extension": ".py",
   "mimetype": "text/x-python",
   "name": "python",
   "nbconvert_exporter": "python",
   "pygments_lexer": "ipython3",
   "version": "3.6.5"
  }
 },
 "nbformat": 4,
 "nbformat_minor": 2
}
