{
 "cells": [
  {
   "cell_type": "markdown",
   "metadata": {},
   "source": [
    "### Collections.deque()\n",
    "\n",
    "A deque is a double-ended queue. It can be used to add or remove elements from both ends. "
   ]
  },
  {
   "cell_type": "code",
   "execution_count": 1,
   "metadata": {},
   "outputs": [
    {
     "data": {
      "text/plain": [
       "deque([1, 2, 3])"
      ]
     },
     "execution_count": 1,
     "metadata": {},
     "output_type": "execute_result"
    }
   ],
   "source": [
    "from collections import deque\n",
    "de = deque([1,2,3])\n",
    "de"
   ]
  },
  {
   "cell_type": "code",
   "execution_count": 2,
   "metadata": {},
   "outputs": [],
   "source": [
    "# append(): This function is used to insert the value in its argument\n",
    "# to the right end of deque.\n",
    "de.append(4)"
   ]
  },
  {
   "cell_type": "code",
   "execution_count": 3,
   "metadata": {},
   "outputs": [],
   "source": [
    "# appendleft(): This function is used to insert the value in its \n",
    "# argument to the left end of deque.\n",
    "de.appendleft(6)\n"
   ]
  },
  {
   "cell_type": "code",
   "execution_count": 4,
   "metadata": {},
   "outputs": [
    {
     "data": {
      "text/plain": [
       "4"
      ]
     },
     "execution_count": 4,
     "metadata": {},
     "output_type": "execute_result"
    }
   ],
   "source": [
    "# pop(): This function is used to delete an argument from the \n",
    "# right end of deque.\n",
    "de.pop()"
   ]
  },
  {
   "cell_type": "code",
   "execution_count": 5,
   "metadata": {},
   "outputs": [
    {
     "data": {
      "text/plain": [
       "6"
      ]
     },
     "execution_count": 5,
     "metadata": {},
     "output_type": "execute_result"
    }
   ],
   "source": [
    "# popleft(): This function is used to delete an argument from the\n",
    "# left end of deque.\n",
    "de.popleft()"
   ]
  },
  {
   "cell_type": "code",
   "execution_count": 6,
   "metadata": {},
   "outputs": [
    {
     "name": "stdout",
     "output_type": "stream",
     "text": [
      "deque([1, 2, 3])\n"
     ]
    },
    {
     "data": {
      "text/plain": [
       "1"
      ]
     },
     "execution_count": 6,
     "metadata": {},
     "output_type": "execute_result"
    }
   ],
   "source": [
    "# index(ele, beg, end): This function returns the first index of\n",
    "# the value mentioned in arguments, starting searching from beg\n",
    "print(de)\n",
    "de.index(2,1,4)"
   ]
  },
  {
   "cell_type": "code",
   "execution_count": 7,
   "metadata": {},
   "outputs": [
    {
     "name": "stdout",
     "output_type": "stream",
     "text": [
      "deque([1, 2, 3, 10])\n"
     ]
    }
   ],
   "source": [
    "# insert(i, a): This function inserts the value mentioned in \n",
    "# arguments(a) at index(i) specified in arguments.\n",
    "de.insert(4,10)\n",
    "print(de)"
   ]
  },
  {
   "cell_type": "code",
   "execution_count": 8,
   "metadata": {},
   "outputs": [],
   "source": [
    "# remove(): This function removes the first occurrence of value \n",
    "# mentioned in arguments.\n",
    "de.remove(3)"
   ]
  },
  {
   "cell_type": "code",
   "execution_count": 9,
   "metadata": {},
   "outputs": [
    {
     "data": {
      "text/plain": [
       "1"
      ]
     },
     "execution_count": 9,
     "metadata": {},
     "output_type": "execute_result"
    }
   ],
   "source": [
    "# count(): This function counts the number of occurrences of value\n",
    "# mentioned in arguments.\n",
    "de.count(2)"
   ]
  },
  {
   "cell_type": "code",
   "execution_count": 10,
   "metadata": {},
   "outputs": [
    {
     "name": "stdout",
     "output_type": "stream",
     "text": [
      "deque([1, 2, 10])\n",
      "deque([1, 2, 10, 5, 6, 7])\n"
     ]
    }
   ],
   "source": [
    "# extend(iterable): This function is used to add multiple values\n",
    "# at the right end of deque. The argument passed is an iterable.\n",
    "print(de)\n",
    "de.extend([5,6,7])\n",
    "print(de)"
   ]
  },
  {
   "cell_type": "code",
   "execution_count": 11,
   "metadata": {},
   "outputs": [
    {
     "name": "stdout",
     "output_type": "stream",
     "text": [
      "deque([1, 2, 10, 5, 6, 7])\n",
      "deque(['c', 'b', 'a', 1, 2, 10, 5, 6, 7])\n"
     ]
    }
   ],
   "source": [
    "# extendleft(iterable): This function is used to add multiple\n",
    "# values at the let end of deque. The argument passed is an iterable.\n",
    "# Order is reversed as a result of left appends.\n",
    "print(de)\n",
    "de.extendleft(['a','b','c'])\n",
    "print(de)"
   ]
  },
  {
   "cell_type": "code",
   "execution_count": 12,
   "metadata": {},
   "outputs": [
    {
     "name": "stdout",
     "output_type": "stream",
     "text": [
      "deque([7, 6, 5, 10, 2, 1, 'a', 'b', 'c'])\n"
     ]
    }
   ],
   "source": [
    "# reverse(): This function is used to reverse order of deque elements.\n",
    "de.reverse()\n",
    "print(de)"
   ]
  },
  {
   "cell_type": "code",
   "execution_count": 13,
   "metadata": {},
   "outputs": [
    {
     "name": "stdout",
     "output_type": "stream",
     "text": [
      "deque([7, 6, 5, 10, 2, 1, 'a', 'b', 'c'])\n",
      "deque([10, 2, 1, 'a', 'b', 'c', 7, 6, 5])\n"
     ]
    }
   ],
   "source": [
    "# rotate(): This function rotates the deque by the number specified\n",
    "# in arguments. If the number specified is negative, rotation occurs\n",
    "# to left. Else rotation is to right\n",
    "print(de)\n",
    "de.rotate(-3)\n",
    "print(de)"
   ]
  },
  {
   "cell_type": "code",
   "execution_count": 14,
   "metadata": {},
   "outputs": [
    {
     "name": "stdout",
     "output_type": "stream",
     "text": [
      "deque([10, 2, 1, 'a', 'b', 'c', 7, 6, 5])\n",
      "deque([6, 5, 10, 2, 1, 'a', 'b', 'c', 7])\n"
     ]
    }
   ],
   "source": [
    "print(de)\n",
    "de.rotate(2)\n",
    "print(de)"
   ]
  },
  {
   "cell_type": "code",
   "execution_count": 17,
   "metadata": {},
   "outputs": [
    {
     "name": "stdin",
     "output_type": "stream",
     "text": [
      " 6\n",
      " append 1\n",
      " append 2\n",
      " append 3\n",
      " appendleft 4\n",
      " pop\n",
      " popleft\n"
     ]
    }
   ],
   "source": [
    "data = deque()\n",
    "\n",
    "for _ in range(int(input())):\n",
    "    eval('data.{0}({1})'.format(*input().split()+['']))"
   ]
  },
  {
   "cell_type": "code",
   "execution_count": 20,
   "metadata": {},
   "outputs": [
    {
     "name": "stdout",
     "output_type": "stream",
     "text": [
      "1 2\n"
     ]
    }
   ],
   "source": [
    "print(\" \".join(list(map(str, data))))"
   ]
  },
  {
   "cell_type": "code",
   "execution_count": null,
   "metadata": {},
   "outputs": [],
   "source": []
  }
 ],
 "metadata": {
  "kernelspec": {
   "display_name": "Python 3",
   "language": "python",
   "name": "python3"
  },
  "language_info": {
   "codemirror_mode": {
    "name": "ipython",
    "version": 3
   },
   "file_extension": ".py",
   "mimetype": "text/x-python",
   "name": "python",
   "nbconvert_exporter": "python",
   "pygments_lexer": "ipython3",
   "version": "3.7.0"
  }
 },
 "nbformat": 4,
 "nbformat_minor": 2
}
